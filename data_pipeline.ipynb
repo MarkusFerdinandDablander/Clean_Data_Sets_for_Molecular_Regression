{
 "cells": [
  {
   "cell_type": "markdown",
   "metadata": {},
   "source": [
    "- Implement performance metrics"
   ]
  },
  {
   "cell_type": "markdown",
   "metadata": {
    "colab_type": "text",
    "collapsed": "true",
    "id": "6ponTMmSSEZs"
   },
   "source": [
    "# Import Packages and Set Options"
   ]
  },
  {
   "cell_type": "code",
   "execution_count": 22,
   "metadata": {
    "colab": {},
    "colab_type": "code",
    "executionInfo": {
     "elapsed": 523,
     "status": "ok",
     "timestamp": 1599869431992,
     "user": {
      "displayName": "Markus Dablander",
      "photoUrl": "",
      "userId": "13467664559539683865"
     },
     "user_tz": -120
    },
    "id": "n2g6fdToSEZu"
   },
   "outputs": [],
   "source": [
    "# import packages\n",
    "\n",
    "# general tools\n",
    "import numpy as np\n",
    "import pandas as pd\n",
    "import matplotlib.pyplot as plt\n",
    "import math\n",
    "import sys\n",
    "from io import StringIO\n",
    "\n",
    "# RDkit\n",
    "from rdkit.Chem.Draw import IPythonConsole\n",
    "from rdkit.Chem import Draw\n",
    "from rdkit.Chem import AllChem as Chem"
   ]
  },
  {
   "cell_type": "markdown",
   "metadata": {},
   "source": [
    "# Prepare Data"
   ]
  },
  {
   "cell_type": "markdown",
   "metadata": {
    "collapsed": "true"
   },
   "source": [
    "## Prepare Data: MoleculeNet_QM7"
   ]
  },
  {
   "cell_type": "code",
   "execution_count": 23,
   "metadata": {
    "colab": {
     "base_uri": "https://localhost:8080/",
     "height": 225
    },
    "colab_type": "code",
    "executionInfo": {
     "elapsed": 429,
     "status": "ok",
     "timestamp": 1599869437487,
     "user": {
      "displayName": "Markus Dablander",
      "photoUrl": "",
      "userId": "13467664559539683865"
     },
     "user_tz": -120
    },
    "id": "FpdNzlmISEaA",
    "outputId": "c37aae09-ccfe-4f8a-dccc-6006309b2074"
   },
   "outputs": [
    {
     "name": "stdout",
     "output_type": "stream",
     "text": [
      "Number of Molecules =  6834\n"
     ]
    },
    {
     "data": {
      "text/html": [
       "<div>\n",
       "<style scoped>\n",
       "    .dataframe tbody tr th:only-of-type {\n",
       "        vertical-align: middle;\n",
       "    }\n",
       "\n",
       "    .dataframe tbody tr th {\n",
       "        vertical-align: top;\n",
       "    }\n",
       "\n",
       "    .dataframe thead th {\n",
       "        text-align: right;\n",
       "    }\n",
       "</style>\n",
       "<table border=\"1\" class=\"dataframe\">\n",
       "  <thead>\n",
       "    <tr style=\"text-align: right;\">\n",
       "      <th></th>\n",
       "      <th>smiles</th>\n",
       "      <th>u0_atom</th>\n",
       "    </tr>\n",
       "  </thead>\n",
       "  <tbody>\n",
       "    <tr>\n",
       "      <th>0</th>\n",
       "      <td>C([H])([H])([H])[H]</td>\n",
       "      <td>-417.96</td>\n",
       "    </tr>\n",
       "    <tr>\n",
       "      <th>1</th>\n",
       "      <td>[H]C([H])([H])C([H])([H])[H]</td>\n",
       "      <td>-712.42</td>\n",
       "    </tr>\n",
       "    <tr>\n",
       "      <th>2</th>\n",
       "      <td>[H]C([H])=C([H])[H]</td>\n",
       "      <td>-564.21</td>\n",
       "    </tr>\n",
       "    <tr>\n",
       "      <th>3</th>\n",
       "      <td>[H]C#C[H]</td>\n",
       "      <td>-404.88</td>\n",
       "    </tr>\n",
       "    <tr>\n",
       "      <th>4</th>\n",
       "      <td>[H]OC([H])([H])C([H])([H])[H]</td>\n",
       "      <td>-808.87</td>\n",
       "    </tr>\n",
       "    <tr>\n",
       "      <th>...</th>\n",
       "      <td>...</td>\n",
       "      <td>...</td>\n",
       "    </tr>\n",
       "    <tr>\n",
       "      <th>6829</th>\n",
       "      <td>[H]C(=C(C#N)C([H])([H])[H])C([H])([H])C([H])([...</td>\n",
       "      <td>-1919.54</td>\n",
       "    </tr>\n",
       "    <tr>\n",
       "      <th>6830</th>\n",
       "      <td>[H]C(=C([H])C([H])(N([H])[H])C([H])([H])[H])C(...</td>\n",
       "      <td>-1657.63</td>\n",
       "    </tr>\n",
       "    <tr>\n",
       "      <th>6831</th>\n",
       "      <td>[H]C(=C([H])C([H])([H])C([H])([H])[H])C([H])([...</td>\n",
       "      <td>-1662.10</td>\n",
       "    </tr>\n",
       "    <tr>\n",
       "      <th>6832</th>\n",
       "      <td>[H]C([H])=C(C([H])([H])C([H])([H])[H])C([H])([...</td>\n",
       "      <td>-1782.01</td>\n",
       "    </tr>\n",
       "    <tr>\n",
       "      <th>6833</th>\n",
       "      <td>[H]C([H])=C(C([H])([H])C([H])([H])[H])C([H])(N...</td>\n",
       "      <td>-1919.00</td>\n",
       "    </tr>\n",
       "  </tbody>\n",
       "</table>\n",
       "<p>6834 rows × 2 columns</p>\n",
       "</div>"
      ],
      "text/plain": [
       "                                                 smiles  u0_atom\n",
       "0                                   C([H])([H])([H])[H]  -417.96\n",
       "1                          [H]C([H])([H])C([H])([H])[H]  -712.42\n",
       "2                                   [H]C([H])=C([H])[H]  -564.21\n",
       "3                                             [H]C#C[H]  -404.88\n",
       "4                         [H]OC([H])([H])C([H])([H])[H]  -808.87\n",
       "...                                                 ...      ...\n",
       "6829  [H]C(=C(C#N)C([H])([H])[H])C([H])([H])C([H])([... -1919.54\n",
       "6830  [H]C(=C([H])C([H])(N([H])[H])C([H])([H])[H])C(... -1657.63\n",
       "6831  [H]C(=C([H])C([H])([H])C([H])([H])[H])C([H])([... -1662.10\n",
       "6832  [H]C([H])=C(C([H])([H])C([H])([H])[H])C([H])([... -1782.01\n",
       "6833  [H]C([H])=C(C([H])([H])C([H])([H])[H])C([H])(N... -1919.00\n",
       "\n",
       "[6834 rows x 2 columns]"
      ]
     },
     "metadata": {},
     "output_type": "display_data"
    }
   ],
   "source": [
    "# import data (I took a .csv file of QM7 I found on the Deepchem website, but it apparently has slightly less molecules than the .mat file one can download from MoleculeNet)\n",
    "\n",
    "dataframe = pd.read_csv(\"data/MoleculeNet_QM7/qm7.csv\")\n",
    "\n",
    "print(\"Number of Molecules = \", len(dataframe))\n",
    "display(dataframe)"
   ]
  },
  {
   "cell_type": "code",
   "execution_count": 5,
   "metadata": {
    "colab": {
     "base_uri": "https://localhost:8080/",
     "height": 276
    },
    "colab_type": "code",
    "executionInfo": {
     "elapsed": 2024,
     "status": "ok",
     "timestamp": 1599858873012,
     "user": {
      "displayName": "Markus Dablander",
      "photoUrl": "",
      "userId": "13467664559539683865"
     },
     "user_tz": -120
    },
    "id": "BIm1m_9NSEaG",
    "outputId": "b8cea951-b524-4fc0-c760-db6be2b78673"
   },
   "outputs": [
    {
     "data": {
      "text/html": [
       "<div>\n",
       "<style scoped>\n",
       "    .dataframe tbody tr th:only-of-type {\n",
       "        vertical-align: middle;\n",
       "    }\n",
       "\n",
       "    .dataframe tbody tr th {\n",
       "        vertical-align: top;\n",
       "    }\n",
       "\n",
       "    .dataframe thead th {\n",
       "        text-align: right;\n",
       "    }\n",
       "</style>\n",
       "<table border=\"1\" class=\"dataframe\">\n",
       "  <thead>\n",
       "    <tr style=\"text-align: right;\">\n",
       "      <th></th>\n",
       "      <th>smiles</th>\n",
       "      <th>u0_atom</th>\n",
       "    </tr>\n",
       "  </thead>\n",
       "  <tbody>\n",
       "  </tbody>\n",
       "</table>\n",
       "</div>"
      ],
      "text/plain": [
       "Empty DataFrame\n",
       "Columns: [smiles, u0_atom]\n",
       "Index: []"
      ]
     },
     "metadata": {},
     "output_type": "display_data"
    },
    {
     "data": {
      "text/html": [
       "<div>\n",
       "<style scoped>\n",
       "    .dataframe tbody tr th:only-of-type {\n",
       "        vertical-align: middle;\n",
       "    }\n",
       "\n",
       "    .dataframe tbody tr th {\n",
       "        vertical-align: top;\n",
       "    }\n",
       "\n",
       "    .dataframe thead th {\n",
       "        text-align: right;\n",
       "    }\n",
       "</style>\n",
       "<table border=\"1\" class=\"dataframe\">\n",
       "  <thead>\n",
       "    <tr style=\"text-align: right;\">\n",
       "      <th></th>\n",
       "      <th>smiles</th>\n",
       "      <th>u0_atom</th>\n",
       "    </tr>\n",
       "  </thead>\n",
       "  <tbody>\n",
       "  </tbody>\n",
       "</table>\n",
       "</div>"
      ],
      "text/plain": [
       "Empty DataFrame\n",
       "Columns: [smiles, u0_atom]\n",
       "Index: []"
      ]
     },
     "metadata": {},
     "output_type": "display_data"
    }
   ],
   "source": [
    "# check for missing values (i.e. NA values)\n",
    "\n",
    "display(dataframe[dataframe['smiles'].isnull()])\n",
    "display(dataframe[dataframe['u0_atom'].isnull()])"
   ]
  },
  {
   "cell_type": "code",
   "execution_count": 6,
   "metadata": {
    "colab": {},
    "colab_type": "code",
    "id": "oFu7W-IlSEaN"
   },
   "outputs": [
    {
     "name": "stdout",
     "output_type": "stream",
     "text": [
      "6834\n"
     ]
    }
   ],
   "source": [
    "# filter out Smiles which produce error messages in rdkit\n",
    "\n",
    "bad_smiles = []\n",
    "\n",
    "for k in range(len(dataframe[\"smiles\"].values)):\n",
    "\n",
    "    smiles = dataframe[\"smiles\"].values[k]\n",
    "    \n",
    "    sio = sys.stderr = StringIO()\n",
    "    Chem.MolFromSmiles(smiles)\n",
    "    error_message = sio.getvalue()\n",
    "    \n",
    "    if error_message != \"\" and error_message[0:13] != \"RDKit WARNING\":\n",
    "        print(k)\n",
    "        #print(error_message)\n",
    "        print(smiles, \"\\n \\n \\n \\n\")\n",
    "        bad_smiles.append(smiles)\n",
    "\n",
    "dataframe = dataframe[dataframe[\"smiles\"].isin(bad_smiles) == False]\n",
    "\n",
    "print(len(dataframe))"
   ]
  },
  {
   "cell_type": "code",
   "execution_count": 7,
   "metadata": {},
   "outputs": [
    {
     "name": "stdout",
     "output_type": "stream",
     "text": [
      "Number of Molecules =  6834\n"
     ]
    }
   ],
   "source": [
    "# define number of molecules\n",
    "\n",
    "N_molecules = len(dataframe[\"smiles\"].values)\n",
    "\n",
    "print(\"Number of Molecules = \", N_molecules)"
   ]
  },
  {
   "cell_type": "code",
   "execution_count": 9,
   "metadata": {
    "colab": {
     "base_uri": "https://localhost:8080/",
     "height": 90
    },
    "colab_type": "code",
    "executionInfo": {
     "elapsed": 771,
     "status": "ok",
     "timestamp": 1599869443976,
     "user": {
      "displayName": "Markus Dablander",
      "photoUrl": "",
      "userId": "13467664559539683865"
     },
     "user_tz": -120
    },
    "id": "M1aIBqplSEaq",
    "outputId": "d9c43474-c7b7-4622-da65-6ebe36c9c3a1"
   },
   "outputs": [
    {
     "name": "stdout",
     "output_type": "stream",
     "text": [
      "Average Value -1544.724847819725\n",
      "Standard Deviation  222.85913626690564\n",
      "Shape of y =  (6834,)\n",
      "Shape of Y =  (6834, 1)\n",
      "\n",
      " y =  [ -417.96  -712.42  -564.21 ... -1662.1  -1782.01 -1919.  ]\n"
     ]
    }
   ],
   "source": [
    "# construct target variable y/Y (hERG inhibition)\n",
    "\n",
    "# extract labels\n",
    "y = dataframe.loc[:,\"u0_atom\"].values\n",
    "Y = np.reshape(y, (len(y), 1))\n",
    "\n",
    "print(\"Average Value\", np.mean(y))\n",
    "print(\"Standard Deviation \", np.std(y))\n",
    "\n",
    "\n",
    "print(\"Shape of y = \", y.shape)\n",
    "print(\"Shape of Y = \", Y.shape)\n",
    "\n",
    "print(\"\\n y = \", y)\n"
   ]
  },
  {
   "cell_type": "code",
   "execution_count": 10,
   "metadata": {},
   "outputs": [
    {
     "name": "stdout",
     "output_type": "stream",
     "text": [
      "Average Value 5.323352073590449e-16\n",
      "Standard Deviation  1.0\n",
      "Shape of y =  (6834,)\n",
      "Shape of Y =  (6834, 1)\n",
      "\n",
      " y =  [ 5.05595089  3.73466783  4.39970676 ... -0.52667866 -1.06473154\n",
      " -1.67942476]\n"
     ]
    }
   ],
   "source": [
    "# z-transform target variable Y/y to mean 0 and std 1\n",
    "\n",
    "# z-transform\n",
    "y = (y - np.mean(y))/np.std(y)\n",
    "Y = np.reshape(y, (len(y), 1))\n",
    "\n",
    "print(\"Average Value\", np.mean(y))\n",
    "print(\"Standard Deviation \", np.std(y))\n",
    "\n",
    "\n",
    "print(\"Shape of y = \", y.shape)\n",
    "print(\"Shape of Y = \", Y.shape)\n",
    "\n",
    "print(\"\\n y = \", y)"
   ]
  },
  {
   "cell_type": "code",
   "execution_count": 11,
   "metadata": {},
   "outputs": [
    {
     "data": {
      "image/png": "[encoded data removed]",
      "text/plain": [
       "<Figure size 432x288 with 1 Axes>"
      ]
     },
     "metadata": {
      "needs_background": "light"
     },
     "output_type": "display_data"
    }
   ],
   "source": [
    "# plot histogram of target variable Y/y\n",
    "\n",
    "plt.hist(y, bins = 100);"
   ]
  },
  {
   "cell_type": "code",
   "execution_count": 12,
   "metadata": {
    "colab": {
     "base_uri": "https://localhost:8080/",
     "height": 222
    },
    "colab_type": "code",
    "executionInfo": {
     "elapsed": 444,
     "status": "ok",
     "timestamp": 1599869444377,
     "user": {
      "displayName": "Markus Dablander",
      "photoUrl": "",
      "userId": "13467664559539683865"
     },
     "user_tz": -120
    },
    "id": "PB82_jFUSEav",
    "outputId": "f151bbf0-8894-45c1-bd95-e747bc7c74b5"
   },
   "outputs": [
    {
     "name": "stdout",
     "output_type": "stream",
     "text": [
      "                  Smiles String\n",
      "C([H])([H])([H])[H]\n"
     ]
    },
    {
     "data": {
      "image/png": "[encoded data removed]",
      "text/plain": [
       "<rdkit.Chem.rdchem.Mol at 0x7f123953a9e0>"
      ]
     },
     "metadata": {},
     "output_type": "display_data"
    },
    {
     "name": "stdout",
     "output_type": "stream",
     "text": [
      "Shape of x_smiles =  (6834,)\n",
      "Shape of X_smiles =  (6834, 1)\n",
      "\n",
      " x_smiles =  ['C([H])([H])([H])[H]' '[H]C([H])([H])C([H])([H])[H]'\n",
      " '[H]C([H])=C([H])[H]' '[H]C#C[H]' '[H]OC([H])([H])C([H])([H])[H]'\n",
      " '[H]C(=O)C([H])([H])[H]' '[H]C([H])([H])OC([H])([H])[H]'\n",
      " '[H]C1([H])C([H])([H])C1([H])[H]'\n",
      " '[H]C([H])([H])C([H])([H])C([H])([H])[H]'\n",
      " '[H]C([H])=C([H])C([H])([H])[H]']\n"
     ]
    }
   ],
   "source": [
    "# extract Smiles strings\n",
    "\n",
    "X_smiles = np.reshape(dataframe[\"smiles\"].values, (N_molecules, 1))\n",
    "x_smiles = X_smiles[:,0]\n",
    "\n",
    "print(\"                  Smiles String\")\n",
    "print(X_smiles[0:1][0][0])\n",
    "\n",
    "for s in x_smiles[0:1]:\n",
    "    molecule = Chem.MolFromSmiles(s)\n",
    "    display(molecule)\n",
    "    \n",
    "print(\"Shape of x_smiles = \", x_smiles.shape)\n",
    "print(\"Shape of X_smiles = \", X_smiles.shape)\n",
    "\n",
    "print(\"\\n x_smiles = \", x_smiles[0:10])"
   ]
  },
  {
   "cell_type": "markdown",
   "metadata": {
    "collapsed": "true"
   },
   "source": [
    "## Prepare Data: MoleculeNet_QM8"
   ]
  },
  {
   "cell_type": "code",
   "execution_count": 24,
   "metadata": {
    "colab": {
     "base_uri": "https://localhost:8080/",
     "height": 225
    },
    "colab_type": "code",
    "executionInfo": {
     "elapsed": 429,
     "status": "ok",
     "timestamp": 1599869437487,
     "user": {
      "displayName": "Markus Dablander",
      "photoUrl": "",
      "userId": "13467664559539683865"
     },
     "user_tz": -120
    },
    "id": "FpdNzlmISEaA",
    "outputId": "c37aae09-ccfe-4f8a-dccc-6006309b2074"
   },
   "outputs": [
    {
     "name": "stdout",
     "output_type": "stream",
     "text": [
      "Number of Molecules =  21786\n"
     ]
    },
    {
     "data": {
      "text/html": [
       "<div>\n",
       "<style scoped>\n",
       "    .dataframe tbody tr th:only-of-type {\n",
       "        vertical-align: middle;\n",
       "    }\n",
       "\n",
       "    .dataframe tbody tr th {\n",
       "        vertical-align: top;\n",
       "    }\n",
       "\n",
       "    .dataframe thead th {\n",
       "        text-align: right;\n",
       "    }\n",
       "</style>\n",
       "<table border=\"1\" class=\"dataframe\">\n",
       "  <thead>\n",
       "    <tr style=\"text-align: right;\">\n",
       "      <th></th>\n",
       "      <th>smiles</th>\n",
       "      <th>E1-CC2</th>\n",
       "      <th>E2-CC2</th>\n",
       "      <th>f1-CC2</th>\n",
       "      <th>f2-CC2</th>\n",
       "      <th>E1-PBE0</th>\n",
       "      <th>E2-PBE0</th>\n",
       "      <th>f1-PBE0</th>\n",
       "      <th>f2-PBE0</th>\n",
       "      <th>E1-PBE0.1</th>\n",
       "      <th>E2-PBE0.1</th>\n",
       "      <th>f1-PBE0.1</th>\n",
       "      <th>f2-PBE0.1</th>\n",
       "      <th>E1-CAM</th>\n",
       "      <th>E2-CAM</th>\n",
       "      <th>f1-CAM</th>\n",
       "      <th>f2-CAM</th>\n",
       "    </tr>\n",
       "  </thead>\n",
       "  <tbody>\n",
       "    <tr>\n",
       "      <th>0</th>\n",
       "      <td>[H]C([H])([H])[H]</td>\n",
       "      <td>0.432952</td>\n",
       "      <td>0.432960</td>\n",
       "      <td>0.249728</td>\n",
       "      <td>0.249736</td>\n",
       "      <td>0.430218</td>\n",
       "      <td>0.430236</td>\n",
       "      <td>0.181436</td>\n",
       "      <td>1.815015e-01</td>\n",
       "      <td>0.430218</td>\n",
       "      <td>0.430236</td>\n",
       "      <td>0.181436</td>\n",
       "      <td>1.815015e-01</td>\n",
       "      <td>0.409931</td>\n",
       "      <td>0.409939</td>\n",
       "      <td>0.1832</td>\n",
       "      <td>0.1832</td>\n",
       "    </tr>\n",
       "    <tr>\n",
       "      <th>1</th>\n",
       "      <td>[H]N([H])[H]</td>\n",
       "      <td>0.265220</td>\n",
       "      <td>0.350081</td>\n",
       "      <td>0.067015</td>\n",
       "      <td>0.030049</td>\n",
       "      <td>0.268386</td>\n",
       "      <td>0.349106</td>\n",
       "      <td>0.040761</td>\n",
       "      <td>3.164115e-02</td>\n",
       "      <td>0.268386</td>\n",
       "      <td>0.349106</td>\n",
       "      <td>0.040761</td>\n",
       "      <td>3.164115e-02</td>\n",
       "      <td>0.253853</td>\n",
       "      <td>0.334481</td>\n",
       "      <td>0.0575</td>\n",
       "      <td>0.0238</td>\n",
       "    </tr>\n",
       "    <tr>\n",
       "      <th>2</th>\n",
       "      <td>[H]O[H]</td>\n",
       "      <td>0.286537</td>\n",
       "      <td>0.363579</td>\n",
       "      <td>0.037755</td>\n",
       "      <td>0.000000</td>\n",
       "      <td>0.291377</td>\n",
       "      <td>0.362091</td>\n",
       "      <td>0.019503</td>\n",
       "      <td>1.000000e-08</td>\n",
       "      <td>0.291377</td>\n",
       "      <td>0.362091</td>\n",
       "      <td>0.019503</td>\n",
       "      <td>1.000000e-08</td>\n",
       "      <td>0.278519</td>\n",
       "      <td>0.350074</td>\n",
       "      <td>0.0333</td>\n",
       "      <td>0.0000</td>\n",
       "    </tr>\n",
       "    <tr>\n",
       "      <th>3</th>\n",
       "      <td>[H]C#C[H]</td>\n",
       "      <td>0.358629</td>\n",
       "      <td>0.358629</td>\n",
       "      <td>0.000000</td>\n",
       "      <td>0.000000</td>\n",
       "      <td>0.256321</td>\n",
       "      <td>0.268469</td>\n",
       "      <td>0.000000</td>\n",
       "      <td>0.000000e+00</td>\n",
       "      <td>0.256321</td>\n",
       "      <td>0.268469</td>\n",
       "      <td>0.000000</td>\n",
       "      <td>0.000000e+00</td>\n",
       "      <td>0.244879</td>\n",
       "      <td>0.255051</td>\n",
       "      <td>0.0000</td>\n",
       "      <td>0.0000</td>\n",
       "    </tr>\n",
       "    <tr>\n",
       "      <th>4</th>\n",
       "      <td>[H]C#N</td>\n",
       "      <td>0.319958</td>\n",
       "      <td>0.336074</td>\n",
       "      <td>0.000000</td>\n",
       "      <td>0.000000</td>\n",
       "      <td>0.295139</td>\n",
       "      <td>0.311657</td>\n",
       "      <td>0.000000</td>\n",
       "      <td>0.000000e+00</td>\n",
       "      <td>0.295139</td>\n",
       "      <td>0.311657</td>\n",
       "      <td>0.000000</td>\n",
       "      <td>0.000000e+00</td>\n",
       "      <td>0.283425</td>\n",
       "      <td>0.296993</td>\n",
       "      <td>0.0000</td>\n",
       "      <td>0.0000</td>\n",
       "    </tr>\n",
       "    <tr>\n",
       "      <th>...</th>\n",
       "      <td>...</td>\n",
       "      <td>...</td>\n",
       "      <td>...</td>\n",
       "      <td>...</td>\n",
       "      <td>...</td>\n",
       "      <td>...</td>\n",
       "      <td>...</td>\n",
       "      <td>...</td>\n",
       "      <td>...</td>\n",
       "      <td>...</td>\n",
       "      <td>...</td>\n",
       "      <td>...</td>\n",
       "      <td>...</td>\n",
       "      <td>...</td>\n",
       "      <td>...</td>\n",
       "      <td>...</td>\n",
       "      <td>...</td>\n",
       "    </tr>\n",
       "    <tr>\n",
       "      <th>21781</th>\n",
       "      <td>[H]C([H])(N1C([H])([H])C1([H])[H])C(F)(F)F</td>\n",
       "      <td>0.271951</td>\n",
       "      <td>0.297488</td>\n",
       "      <td>0.049481</td>\n",
       "      <td>0.039746</td>\n",
       "      <td>0.279686</td>\n",
       "      <td>0.305949</td>\n",
       "      <td>0.045505</td>\n",
       "      <td>3.645832e-02</td>\n",
       "      <td>0.279686</td>\n",
       "      <td>0.305949</td>\n",
       "      <td>0.045505</td>\n",
       "      <td>3.645832e-02</td>\n",
       "      <td>0.276414</td>\n",
       "      <td>0.297798</td>\n",
       "      <td>0.0314</td>\n",
       "      <td>0.0409</td>\n",
       "    </tr>\n",
       "    <tr>\n",
       "      <th>21782</th>\n",
       "      <td>[H]C1([H])C([H])([H])C([H])(C(F)(F)F)C1([H])[H]</td>\n",
       "      <td>0.343606</td>\n",
       "      <td>0.344621</td>\n",
       "      <td>0.044959</td>\n",
       "      <td>0.017041</td>\n",
       "      <td>0.347063</td>\n",
       "      <td>0.348212</td>\n",
       "      <td>0.003887</td>\n",
       "      <td>5.704017e-02</td>\n",
       "      <td>0.347063</td>\n",
       "      <td>0.348212</td>\n",
       "      <td>0.003887</td>\n",
       "      <td>5.704017e-02</td>\n",
       "      <td>0.336025</td>\n",
       "      <td>0.337881</td>\n",
       "      <td>0.0376</td>\n",
       "      <td>0.0107</td>\n",
       "    </tr>\n",
       "    <tr>\n",
       "      <th>21783</th>\n",
       "      <td>[H]N1C([H])([H])C([H])([H])C1([H])C(F)(F)F</td>\n",
       "      <td>0.256356</td>\n",
       "      <td>0.279425</td>\n",
       "      <td>0.005103</td>\n",
       "      <td>0.010683</td>\n",
       "      <td>0.264920</td>\n",
       "      <td>0.280065</td>\n",
       "      <td>0.002531</td>\n",
       "      <td>9.899310e-03</td>\n",
       "      <td>0.264920</td>\n",
       "      <td>0.280065</td>\n",
       "      <td>0.002531</td>\n",
       "      <td>9.899310e-03</td>\n",
       "      <td>0.253210</td>\n",
       "      <td>0.279390</td>\n",
       "      <td>0.0037</td>\n",
       "      <td>0.0086</td>\n",
       "    </tr>\n",
       "    <tr>\n",
       "      <th>21784</th>\n",
       "      <td>[H]C1([H])OC([H])(C(F)(F)F)C1([H])[H]</td>\n",
       "      <td>0.271197</td>\n",
       "      <td>0.292573</td>\n",
       "      <td>0.000831</td>\n",
       "      <td>0.019204</td>\n",
       "      <td>0.279916</td>\n",
       "      <td>0.302611</td>\n",
       "      <td>0.000742</td>\n",
       "      <td>2.232390e-02</td>\n",
       "      <td>0.279916</td>\n",
       "      <td>0.302611</td>\n",
       "      <td>0.000742</td>\n",
       "      <td>2.232390e-02</td>\n",
       "      <td>0.274602</td>\n",
       "      <td>0.299852</td>\n",
       "      <td>0.0004</td>\n",
       "      <td>0.0195</td>\n",
       "    </tr>\n",
       "    <tr>\n",
       "      <th>21785</th>\n",
       "      <td>[H]C1([H])OC([H])([H])C1([H])C(F)(F)F</td>\n",
       "      <td>0.262279</td>\n",
       "      <td>0.284981</td>\n",
       "      <td>0.000044</td>\n",
       "      <td>0.024138</td>\n",
       "      <td>0.276903</td>\n",
       "      <td>0.292604</td>\n",
       "      <td>0.001943</td>\n",
       "      <td>2.376646e-02</td>\n",
       "      <td>0.276903</td>\n",
       "      <td>0.292604</td>\n",
       "      <td>0.001943</td>\n",
       "      <td>2.376646e-02</td>\n",
       "      <td>0.266829</td>\n",
       "      <td>0.292043</td>\n",
       "      <td>0.0001</td>\n",
       "      <td>0.0266</td>\n",
       "    </tr>\n",
       "  </tbody>\n",
       "</table>\n",
       "<p>21786 rows × 17 columns</p>\n",
       "</div>"
      ],
      "text/plain": [
       "                                                smiles    E1-CC2    E2-CC2  \\\n",
       "0                                    [H]C([H])([H])[H]  0.432952  0.432960   \n",
       "1                                         [H]N([H])[H]  0.265220  0.350081   \n",
       "2                                              [H]O[H]  0.286537  0.363579   \n",
       "3                                            [H]C#C[H]  0.358629  0.358629   \n",
       "4                                               [H]C#N  0.319958  0.336074   \n",
       "...                                                ...       ...       ...   \n",
       "21781       [H]C([H])(N1C([H])([H])C1([H])[H])C(F)(F)F  0.271951  0.297488   \n",
       "21782  [H]C1([H])C([H])([H])C([H])(C(F)(F)F)C1([H])[H]  0.343606  0.344621   \n",
       "21783       [H]N1C([H])([H])C([H])([H])C1([H])C(F)(F)F  0.256356  0.279425   \n",
       "21784            [H]C1([H])OC([H])(C(F)(F)F)C1([H])[H]  0.271197  0.292573   \n",
       "21785            [H]C1([H])OC([H])([H])C1([H])C(F)(F)F  0.262279  0.284981   \n",
       "\n",
       "         f1-CC2    f2-CC2   E1-PBE0   E2-PBE0   f1-PBE0       f2-PBE0  \\\n",
       "0      0.249728  0.249736  0.430218  0.430236  0.181436  1.815015e-01   \n",
       "1      0.067015  0.030049  0.268386  0.349106  0.040761  3.164115e-02   \n",
       "2      0.037755  0.000000  0.291377  0.362091  0.019503  1.000000e-08   \n",
       "3      0.000000  0.000000  0.256321  0.268469  0.000000  0.000000e+00   \n",
       "4      0.000000  0.000000  0.295139  0.311657  0.000000  0.000000e+00   \n",
       "...         ...       ...       ...       ...       ...           ...   \n",
       "21781  0.049481  0.039746  0.279686  0.305949  0.045505  3.645832e-02   \n",
       "21782  0.044959  0.017041  0.347063  0.348212  0.003887  5.704017e-02   \n",
       "21783  0.005103  0.010683  0.264920  0.280065  0.002531  9.899310e-03   \n",
       "21784  0.000831  0.019204  0.279916  0.302611  0.000742  2.232390e-02   \n",
       "21785  0.000044  0.024138  0.276903  0.292604  0.001943  2.376646e-02   \n",
       "\n",
       "       E1-PBE0.1  E2-PBE0.1  f1-PBE0.1     f2-PBE0.1    E1-CAM    E2-CAM  \\\n",
       "0       0.430218   0.430236   0.181436  1.815015e-01  0.409931  0.409939   \n",
       "1       0.268386   0.349106   0.040761  3.164115e-02  0.253853  0.334481   \n",
       "2       0.291377   0.362091   0.019503  1.000000e-08  0.278519  0.350074   \n",
       "3       0.256321   0.268469   0.000000  0.000000e+00  0.244879  0.255051   \n",
       "4       0.295139   0.311657   0.000000  0.000000e+00  0.283425  0.296993   \n",
       "...          ...        ...        ...           ...       ...       ...   \n",
       "21781   0.279686   0.305949   0.045505  3.645832e-02  0.276414  0.297798   \n",
       "21782   0.347063   0.348212   0.003887  5.704017e-02  0.336025  0.337881   \n",
       "21783   0.264920   0.280065   0.002531  9.899310e-03  0.253210  0.279390   \n",
       "21784   0.279916   0.302611   0.000742  2.232390e-02  0.274602  0.299852   \n",
       "21785   0.276903   0.292604   0.001943  2.376646e-02  0.266829  0.292043   \n",
       "\n",
       "       f1-CAM  f2-CAM  \n",
       "0      0.1832  0.1832  \n",
       "1      0.0575  0.0238  \n",
       "2      0.0333  0.0000  \n",
       "3      0.0000  0.0000  \n",
       "4      0.0000  0.0000  \n",
       "...       ...     ...  \n",
       "21781  0.0314  0.0409  \n",
       "21782  0.0376  0.0107  \n",
       "21783  0.0037  0.0086  \n",
       "21784  0.0004  0.0195  \n",
       "21785  0.0001  0.0266  \n",
       "\n",
       "[21786 rows x 17 columns]"
      ]
     },
     "metadata": {},
     "output_type": "display_data"
    }
   ],
   "source": [
    "# import data\n",
    "\n",
    "dataframe = pd.read_csv(\"data/MoleculeNet_QM8/qm8.csv\")\n",
    "\n",
    "print(\"Number of Molecules = \", len(dataframe))\n",
    "display(dataframe)"
   ]
  },
  {
   "cell_type": "code",
   "execution_count": 110,
   "metadata": {},
   "outputs": [],
   "source": [
    "# choose target variable\n",
    "\n",
    "target = \"E1-CC2\""
   ]
  },
  {
   "cell_type": "code",
   "execution_count": 111,
   "metadata": {
    "colab": {
     "base_uri": "https://localhost:8080/",
     "height": 276
    },
    "colab_type": "code",
    "executionInfo": {
     "elapsed": 2024,
     "status": "ok",
     "timestamp": 1599858873012,
     "user": {
      "displayName": "Markus Dablander",
      "photoUrl": "",
      "userId": "13467664559539683865"
     },
     "user_tz": -120
    },
    "id": "BIm1m_9NSEaG",
    "outputId": "b8cea951-b524-4fc0-c760-db6be2b78673"
   },
   "outputs": [
    {
     "data": {
      "text/html": [
       "<div>\n",
       "<style scoped>\n",
       "    .dataframe tbody tr th:only-of-type {\n",
       "        vertical-align: middle;\n",
       "    }\n",
       "\n",
       "    .dataframe tbody tr th {\n",
       "        vertical-align: top;\n",
       "    }\n",
       "\n",
       "    .dataframe thead th {\n",
       "        text-align: right;\n",
       "    }\n",
       "</style>\n",
       "<table border=\"1\" class=\"dataframe\">\n",
       "  <thead>\n",
       "    <tr style=\"text-align: right;\">\n",
       "      <th></th>\n",
       "      <th>smiles</th>\n",
       "      <th>E1-CC2</th>\n",
       "      <th>E2-CC2</th>\n",
       "      <th>f1-CC2</th>\n",
       "      <th>f2-CC2</th>\n",
       "      <th>E1-PBE0</th>\n",
       "      <th>E2-PBE0</th>\n",
       "      <th>f1-PBE0</th>\n",
       "      <th>f2-PBE0</th>\n",
       "      <th>E1-PBE0.1</th>\n",
       "      <th>E2-PBE0.1</th>\n",
       "      <th>f1-PBE0.1</th>\n",
       "      <th>f2-PBE0.1</th>\n",
       "      <th>E1-CAM</th>\n",
       "      <th>E2-CAM</th>\n",
       "      <th>f1-CAM</th>\n",
       "      <th>f2-CAM</th>\n",
       "    </tr>\n",
       "  </thead>\n",
       "  <tbody>\n",
       "  </tbody>\n",
       "</table>\n",
       "</div>"
      ],
      "text/plain": [
       "Empty DataFrame\n",
       "Columns: [smiles, E1-CC2, E2-CC2, f1-CC2, f2-CC2, E1-PBE0, E2-PBE0, f1-PBE0, f2-PBE0, E1-PBE0.1, E2-PBE0.1, f1-PBE0.1, f2-PBE0.1, E1-CAM, E2-CAM, f1-CAM, f2-CAM]\n",
       "Index: []"
      ]
     },
     "metadata": {},
     "output_type": "display_data"
    },
    {
     "data": {
      "text/html": [
       "<div>\n",
       "<style scoped>\n",
       "    .dataframe tbody tr th:only-of-type {\n",
       "        vertical-align: middle;\n",
       "    }\n",
       "\n",
       "    .dataframe tbody tr th {\n",
       "        vertical-align: top;\n",
       "    }\n",
       "\n",
       "    .dataframe thead th {\n",
       "        text-align: right;\n",
       "    }\n",
       "</style>\n",
       "<table border=\"1\" class=\"dataframe\">\n",
       "  <thead>\n",
       "    <tr style=\"text-align: right;\">\n",
       "      <th></th>\n",
       "      <th>smiles</th>\n",
       "      <th>E1-CC2</th>\n",
       "      <th>E2-CC2</th>\n",
       "      <th>f1-CC2</th>\n",
       "      <th>f2-CC2</th>\n",
       "      <th>E1-PBE0</th>\n",
       "      <th>E2-PBE0</th>\n",
       "      <th>f1-PBE0</th>\n",
       "      <th>f2-PBE0</th>\n",
       "      <th>E1-PBE0.1</th>\n",
       "      <th>E2-PBE0.1</th>\n",
       "      <th>f1-PBE0.1</th>\n",
       "      <th>f2-PBE0.1</th>\n",
       "      <th>E1-CAM</th>\n",
       "      <th>E2-CAM</th>\n",
       "      <th>f1-CAM</th>\n",
       "      <th>f2-CAM</th>\n",
       "    </tr>\n",
       "  </thead>\n",
       "  <tbody>\n",
       "  </tbody>\n",
       "</table>\n",
       "</div>"
      ],
      "text/plain": [
       "Empty DataFrame\n",
       "Columns: [smiles, E1-CC2, E2-CC2, f1-CC2, f2-CC2, E1-PBE0, E2-PBE0, f1-PBE0, f2-PBE0, E1-PBE0.1, E2-PBE0.1, f1-PBE0.1, f2-PBE0.1, E1-CAM, E2-CAM, f1-CAM, f2-CAM]\n",
       "Index: []"
      ]
     },
     "metadata": {},
     "output_type": "display_data"
    }
   ],
   "source": [
    "# check for missing values (i.e. NA values)\n",
    "\n",
    "display(dataframe[dataframe['smiles'].isnull()])\n",
    "display(dataframe[dataframe[target].isnull()])"
   ]
  },
  {
   "cell_type": "code",
   "execution_count": 112,
   "metadata": {
    "colab": {},
    "colab_type": "code",
    "id": "oFu7W-IlSEaN"
   },
   "outputs": [
    {
     "name": "stdout",
     "output_type": "stream",
     "text": [
      "21786\n"
     ]
    }
   ],
   "source": [
    "# filter out Smiles which produce error messages in rdkit\n",
    "\n",
    "bad_smiles = []\n",
    "\n",
    "for k in range(len(dataframe[\"smiles\"].values)):\n",
    "\n",
    "    smiles = dataframe[\"smiles\"].values[k]\n",
    "    \n",
    "    sio = sys.stderr = StringIO()\n",
    "    Chem.MolFromSmiles(smiles)\n",
    "    error_message = sio.getvalue()\n",
    "    \n",
    "    if error_message != \"\" and error_message[0:13] != \"RDKit WARNING\":\n",
    "        print(k)\n",
    "        #print(error_message)\n",
    "        print(smiles, \"\\n \\n \\n \\n\")\n",
    "        bad_smiles.append(smiles)\n",
    "\n",
    "dataframe = dataframe[dataframe[\"smiles\"].isin(bad_smiles) == False]\n",
    "\n",
    "print(len(dataframe))"
   ]
  },
  {
   "cell_type": "code",
   "execution_count": 113,
   "metadata": {},
   "outputs": [
    {
     "name": "stdout",
     "output_type": "stream",
     "text": [
      "Number of Molecules =  21786\n"
     ]
    }
   ],
   "source": [
    "# define number of molecules\n",
    "\n",
    "N_molecules = len(dataframe[\"smiles\"].values)\n",
    "\n",
    "print(\"Number of Molecules = \", N_molecules)"
   ]
  },
  {
   "cell_type": "code",
   "execution_count": 114,
   "metadata": {
    "colab": {
     "base_uri": "https://localhost:8080/",
     "height": 90
    },
    "colab_type": "code",
    "executionInfo": {
     "elapsed": 771,
     "status": "ok",
     "timestamp": 1599869443976,
     "user": {
      "displayName": "Markus Dablander",
      "photoUrl": "",
      "userId": "13467664559539683865"
     },
     "user_tz": -120
    },
    "id": "M1aIBqplSEaq",
    "outputId": "d9c43474-c7b7-4622-da65-6ebe36c9c3a1"
   },
   "outputs": [
    {
     "name": "stdout",
     "output_type": "stream",
     "text": [
      "Average Value 0.2200850052405214\n",
      "Standard Deviation  0.04383185625022522\n",
      "Shape of y =  (21786,)\n",
      "Shape of Y =  (21786, 1)\n",
      "\n",
      " y =  [0.43295186 0.26521952 0.28653735 ... 0.25635598 0.27119673 0.262279  ]\n"
     ]
    }
   ],
   "source": [
    "# construct target variable y/Y (hERG inhibition)\n",
    "\n",
    "# extract labels\n",
    "y = dataframe.loc[:, target].values\n",
    "Y = np.reshape(y, (len(y), 1))\n",
    "\n",
    "print(\"Average Value\", np.mean(y))\n",
    "print(\"Standard Deviation \", np.std(y))\n",
    "\n",
    "\n",
    "print(\"Shape of y = \", y.shape)\n",
    "print(\"Shape of Y = \", Y.shape)\n",
    "\n",
    "print(\"\\n y = \", y)\n"
   ]
  },
  {
   "cell_type": "code",
   "execution_count": 116,
   "metadata": {},
   "outputs": [
    {
     "name": "stdout",
     "output_type": "stream",
     "text": [
      "Average Value 6.170691526935232e-16\n",
      "Standard Deviation  1.0\n",
      "Shape of y =  (21786,)\n",
      "Shape of Y =  (21786, 1)\n",
      "\n",
      " y =  [4.85644171 1.02971945 1.51607416 ... 0.82750259 1.16608625 0.96263308]\n"
     ]
    }
   ],
   "source": [
    "# z-transform target variable Y/y to mean 0 and std 1\n",
    "\n",
    "# z-transform\n",
    "y = (y - np.mean(y))/np.std(y)\n",
    "Y = np.reshape(y, (len(y), 1))\n",
    "\n",
    "print(\"Average Value\", np.mean(y))\n",
    "print(\"Standard Deviation \", np.std(y))\n",
    "\n",
    "\n",
    "print(\"Shape of y = \", y.shape)\n",
    "print(\"Shape of Y = \", Y.shape)\n",
    "\n",
    "print(\"\\n y = \", y)"
   ]
  },
  {
   "cell_type": "code",
   "execution_count": 117,
   "metadata": {},
   "outputs": [
    {
     "data": {
      "image/png": "[encoded data removed]",
      "text/plain": [
       "<Figure size 432x288 with 1 Axes>"
      ]
     },
     "metadata": {
      "needs_background": "light"
     },
     "output_type": "display_data"
    }
   ],
   "source": [
    "# plot histogram of target variable Y/y\n",
    "\n",
    "plt.hist(y, bins = 100);"
   ]
  },
  {
   "cell_type": "code",
   "execution_count": 118,
   "metadata": {
    "colab": {
     "base_uri": "https://localhost:8080/",
     "height": 222
    },
    "colab_type": "code",
    "executionInfo": {
     "elapsed": 444,
     "status": "ok",
     "timestamp": 1599869444377,
     "user": {
      "displayName": "Markus Dablander",
      "photoUrl": "",
      "userId": "13467664559539683865"
     },
     "user_tz": -120
    },
    "id": "PB82_jFUSEav",
    "outputId": "f151bbf0-8894-45c1-bd95-e747bc7c74b5"
   },
   "outputs": [
    {
     "name": "stdout",
     "output_type": "stream",
     "text": [
      "                  Smiles String\n",
      "[H]C([H])([H])[H]\n"
     ]
    },
    {
     "data": {
      "image/png": "[encoded data removed]",
      "text/plain": [
       "<rdkit.Chem.rdchem.Mol at 0x7f8a7d59dee0>"
      ]
     },
     "metadata": {},
     "output_type": "display_data"
    },
    {
     "name": "stdout",
     "output_type": "stream",
     "text": [
      "Shape of x_smiles =  (21786,)\n",
      "Shape of X_smiles =  (21786, 1)\n",
      "\n",
      " x_smiles =  ['[H]C([H])([H])[H]' '[H]N([H])[H]' '[H]O[H]' '[H]C#C[H]' '[H]C#N'\n",
      " '[H]C([H])=O' '[H]C([H])([H])C([H])([H])[H]' '[H]OC([H])([H])[H]'\n",
      " '[H]C#CC([H])([H])[H]' '[H]C([H])([H])C#N']\n"
     ]
    }
   ],
   "source": [
    "# extract Smiles strings\n",
    "\n",
    "X_smiles = np.reshape(dataframe[\"smiles\"].values, (N_molecules, 1))\n",
    "x_smiles = X_smiles[:,0]\n",
    "\n",
    "print(\"                  Smiles String\")\n",
    "print(X_smiles[0:1][0][0])\n",
    "\n",
    "for s in x_smiles[0:1]:\n",
    "    molecule = Chem.MolFromSmiles(s)\n",
    "    display(molecule)\n",
    "    \n",
    "print(\"Shape of x_smiles = \", x_smiles.shape)\n",
    "print(\"Shape of X_smiles = \", X_smiles.shape)\n",
    "\n",
    "print(\"\\n x_smiles = \", x_smiles[0:10])"
   ]
  },
  {
   "cell_type": "markdown",
   "metadata": {
    "collapsed": "true"
   },
   "source": [
    "## Prepare Data: MoleculeNet_QM9"
   ]
  },
  {
   "cell_type": "code",
   "execution_count": 25,
   "metadata": {
    "colab": {
     "base_uri": "https://localhost:8080/",
     "height": 225
    },
    "colab_type": "code",
    "executionInfo": {
     "elapsed": 429,
     "status": "ok",
     "timestamp": 1599869437487,
     "user": {
      "displayName": "Markus Dablander",
      "photoUrl": "",
      "userId": "13467664559539683865"
     },
     "user_tz": -120
    },
    "id": "FpdNzlmISEaA",
    "outputId": "c37aae09-ccfe-4f8a-dccc-6006309b2074"
   },
   "outputs": [
    {
     "name": "stdout",
     "output_type": "stream",
     "text": [
      "Number of Molecules =  133885\n"
     ]
    },
    {
     "data": {
      "text/html": [
       "<div>\n",
       "<style scoped>\n",
       "    .dataframe tbody tr th:only-of-type {\n",
       "        vertical-align: middle;\n",
       "    }\n",
       "\n",
       "    .dataframe tbody tr th {\n",
       "        vertical-align: top;\n",
       "    }\n",
       "\n",
       "    .dataframe thead th {\n",
       "        text-align: right;\n",
       "    }\n",
       "</style>\n",
       "<table border=\"1\" class=\"dataframe\">\n",
       "  <thead>\n",
       "    <tr style=\"text-align: right;\">\n",
       "      <th></th>\n",
       "      <th>mol_id</th>\n",
       "      <th>smiles</th>\n",
       "      <th>A</th>\n",
       "      <th>B</th>\n",
       "      <th>C</th>\n",
       "      <th>mu</th>\n",
       "      <th>alpha</th>\n",
       "      <th>homo</th>\n",
       "      <th>lumo</th>\n",
       "      <th>gap</th>\n",
       "      <th>...</th>\n",
       "      <th>zpve</th>\n",
       "      <th>u0</th>\n",
       "      <th>u298</th>\n",
       "      <th>h298</th>\n",
       "      <th>g298</th>\n",
       "      <th>cv</th>\n",
       "      <th>u0_atom</th>\n",
       "      <th>u298_atom</th>\n",
       "      <th>h298_atom</th>\n",
       "      <th>g298_atom</th>\n",
       "    </tr>\n",
       "  </thead>\n",
       "  <tbody>\n",
       "    <tr>\n",
       "      <th>0</th>\n",
       "      <td>gdb_1</td>\n",
       "      <td>C</td>\n",
       "      <td>157.71180</td>\n",
       "      <td>157.709970</td>\n",
       "      <td>157.706990</td>\n",
       "      <td>0.0000</td>\n",
       "      <td>13.21</td>\n",
       "      <td>-0.3877</td>\n",
       "      <td>0.1171</td>\n",
       "      <td>0.5048</td>\n",
       "      <td>...</td>\n",
       "      <td>0.044749</td>\n",
       "      <td>-40.478930</td>\n",
       "      <td>-40.476062</td>\n",
       "      <td>-40.475117</td>\n",
       "      <td>-40.498597</td>\n",
       "      <td>6.469</td>\n",
       "      <td>-395.999595</td>\n",
       "      <td>-398.643290</td>\n",
       "      <td>-401.014647</td>\n",
       "      <td>-372.471772</td>\n",
       "    </tr>\n",
       "    <tr>\n",
       "      <th>1</th>\n",
       "      <td>gdb_2</td>\n",
       "      <td>N</td>\n",
       "      <td>293.60975</td>\n",
       "      <td>293.541110</td>\n",
       "      <td>191.393970</td>\n",
       "      <td>1.6256</td>\n",
       "      <td>9.46</td>\n",
       "      <td>-0.2570</td>\n",
       "      <td>0.0829</td>\n",
       "      <td>0.3399</td>\n",
       "      <td>...</td>\n",
       "      <td>0.034358</td>\n",
       "      <td>-56.525887</td>\n",
       "      <td>-56.523026</td>\n",
       "      <td>-56.522082</td>\n",
       "      <td>-56.544961</td>\n",
       "      <td>6.316</td>\n",
       "      <td>-276.861363</td>\n",
       "      <td>-278.620271</td>\n",
       "      <td>-280.399259</td>\n",
       "      <td>-259.338802</td>\n",
       "    </tr>\n",
       "    <tr>\n",
       "      <th>2</th>\n",
       "      <td>gdb_3</td>\n",
       "      <td>O</td>\n",
       "      <td>799.58812</td>\n",
       "      <td>437.903860</td>\n",
       "      <td>282.945450</td>\n",
       "      <td>1.8511</td>\n",
       "      <td>6.31</td>\n",
       "      <td>-0.2928</td>\n",
       "      <td>0.0687</td>\n",
       "      <td>0.3615</td>\n",
       "      <td>...</td>\n",
       "      <td>0.021375</td>\n",
       "      <td>-76.404702</td>\n",
       "      <td>-76.401867</td>\n",
       "      <td>-76.400922</td>\n",
       "      <td>-76.422349</td>\n",
       "      <td>6.002</td>\n",
       "      <td>-213.087624</td>\n",
       "      <td>-213.974294</td>\n",
       "      <td>-215.159658</td>\n",
       "      <td>-201.407171</td>\n",
       "    </tr>\n",
       "    <tr>\n",
       "      <th>3</th>\n",
       "      <td>gdb_4</td>\n",
       "      <td>C#C</td>\n",
       "      <td>0.00000</td>\n",
       "      <td>35.610036</td>\n",
       "      <td>35.610036</td>\n",
       "      <td>0.0000</td>\n",
       "      <td>16.28</td>\n",
       "      <td>-0.2845</td>\n",
       "      <td>0.0506</td>\n",
       "      <td>0.3351</td>\n",
       "      <td>...</td>\n",
       "      <td>0.026841</td>\n",
       "      <td>-77.308427</td>\n",
       "      <td>-77.305527</td>\n",
       "      <td>-77.304583</td>\n",
       "      <td>-77.327429</td>\n",
       "      <td>8.574</td>\n",
       "      <td>-385.501997</td>\n",
       "      <td>-387.237686</td>\n",
       "      <td>-389.016047</td>\n",
       "      <td>-365.800724</td>\n",
       "    </tr>\n",
       "    <tr>\n",
       "      <th>4</th>\n",
       "      <td>gdb_5</td>\n",
       "      <td>C#N</td>\n",
       "      <td>0.00000</td>\n",
       "      <td>44.593883</td>\n",
       "      <td>44.593883</td>\n",
       "      <td>2.8937</td>\n",
       "      <td>12.99</td>\n",
       "      <td>-0.3604</td>\n",
       "      <td>0.0191</td>\n",
       "      <td>0.3796</td>\n",
       "      <td>...</td>\n",
       "      <td>0.016601</td>\n",
       "      <td>-93.411888</td>\n",
       "      <td>-93.409370</td>\n",
       "      <td>-93.408425</td>\n",
       "      <td>-93.431246</td>\n",
       "      <td>6.278</td>\n",
       "      <td>-301.820534</td>\n",
       "      <td>-302.906752</td>\n",
       "      <td>-304.091489</td>\n",
       "      <td>-288.720028</td>\n",
       "    </tr>\n",
       "    <tr>\n",
       "      <th>...</th>\n",
       "      <td>...</td>\n",
       "      <td>...</td>\n",
       "      <td>...</td>\n",
       "      <td>...</td>\n",
       "      <td>...</td>\n",
       "      <td>...</td>\n",
       "      <td>...</td>\n",
       "      <td>...</td>\n",
       "      <td>...</td>\n",
       "      <td>...</td>\n",
       "      <td>...</td>\n",
       "      <td>...</td>\n",
       "      <td>...</td>\n",
       "      <td>...</td>\n",
       "      <td>...</td>\n",
       "      <td>...</td>\n",
       "      <td>...</td>\n",
       "      <td>...</td>\n",
       "      <td>...</td>\n",
       "      <td>...</td>\n",
       "      <td>...</td>\n",
       "    </tr>\n",
       "    <tr>\n",
       "      <th>133880</th>\n",
       "      <td>gdb_133881</td>\n",
       "      <td>C1C2C3C4C5OC14C5N23</td>\n",
       "      <td>3.59483</td>\n",
       "      <td>2.198990</td>\n",
       "      <td>1.904230</td>\n",
       "      <td>1.6637</td>\n",
       "      <td>69.37</td>\n",
       "      <td>-0.2254</td>\n",
       "      <td>0.0588</td>\n",
       "      <td>0.2842</td>\n",
       "      <td>...</td>\n",
       "      <td>0.127406</td>\n",
       "      <td>-400.633868</td>\n",
       "      <td>-400.628599</td>\n",
       "      <td>-400.627654</td>\n",
       "      <td>-400.663098</td>\n",
       "      <td>23.658</td>\n",
       "      <td>-1603.983913</td>\n",
       "      <td>-1614.898804</td>\n",
       "      <td>-1623.788097</td>\n",
       "      <td>-1492.819438</td>\n",
       "    </tr>\n",
       "    <tr>\n",
       "      <th>133881</th>\n",
       "      <td>gdb_133882</td>\n",
       "      <td>C1N2C3C2C2C4OC12C34</td>\n",
       "      <td>3.65648</td>\n",
       "      <td>2.142370</td>\n",
       "      <td>1.904390</td>\n",
       "      <td>1.2976</td>\n",
       "      <td>69.52</td>\n",
       "      <td>-0.2393</td>\n",
       "      <td>0.0608</td>\n",
       "      <td>0.3002</td>\n",
       "      <td>...</td>\n",
       "      <td>0.127495</td>\n",
       "      <td>-400.629713</td>\n",
       "      <td>-400.624444</td>\n",
       "      <td>-400.623500</td>\n",
       "      <td>-400.658942</td>\n",
       "      <td>23.697</td>\n",
       "      <td>-1601.376613</td>\n",
       "      <td>-1612.291504</td>\n",
       "      <td>-1621.181424</td>\n",
       "      <td>-1490.211511</td>\n",
       "    </tr>\n",
       "    <tr>\n",
       "      <th>133882</th>\n",
       "      <td>gdb_133883</td>\n",
       "      <td>C1N2C3C4C5C2C13CN45</td>\n",
       "      <td>3.67118</td>\n",
       "      <td>2.143140</td>\n",
       "      <td>1.895010</td>\n",
       "      <td>1.2480</td>\n",
       "      <td>73.60</td>\n",
       "      <td>-0.2233</td>\n",
       "      <td>0.0720</td>\n",
       "      <td>0.2953</td>\n",
       "      <td>...</td>\n",
       "      <td>0.140458</td>\n",
       "      <td>-380.753918</td>\n",
       "      <td>-380.748619</td>\n",
       "      <td>-380.747675</td>\n",
       "      <td>-380.783148</td>\n",
       "      <td>23.972</td>\n",
       "      <td>-1667.045429</td>\n",
       "      <td>-1678.830048</td>\n",
       "      <td>-1688.312964</td>\n",
       "      <td>-1549.143391</td>\n",
       "    </tr>\n",
       "    <tr>\n",
       "      <th>133883</th>\n",
       "      <td>gdb_133884</td>\n",
       "      <td>C1N2C3C4C5CC13C2C45</td>\n",
       "      <td>3.52845</td>\n",
       "      <td>2.151310</td>\n",
       "      <td>1.865820</td>\n",
       "      <td>1.9576</td>\n",
       "      <td>77.40</td>\n",
       "      <td>-0.2122</td>\n",
       "      <td>0.0881</td>\n",
       "      <td>0.3003</td>\n",
       "      <td>...</td>\n",
       "      <td>0.152222</td>\n",
       "      <td>-364.720374</td>\n",
       "      <td>-364.714974</td>\n",
       "      <td>-364.714030</td>\n",
       "      <td>-364.749650</td>\n",
       "      <td>24.796</td>\n",
       "      <td>-1794.600439</td>\n",
       "      <td>-1807.210860</td>\n",
       "      <td>-1817.286772</td>\n",
       "      <td>-1670.349892</td>\n",
       "    </tr>\n",
       "    <tr>\n",
       "      <th>133884</th>\n",
       "      <td>gdb_133885</td>\n",
       "      <td>C1N2C3C4C5OC13C2C45</td>\n",
       "      <td>3.64015</td>\n",
       "      <td>2.217640</td>\n",
       "      <td>1.937930</td>\n",
       "      <td>0.8626</td>\n",
       "      <td>69.48</td>\n",
       "      <td>-0.2316</td>\n",
       "      <td>0.0742</td>\n",
       "      <td>0.3058</td>\n",
       "      <td>...</td>\n",
       "      <td>0.127862</td>\n",
       "      <td>-400.633052</td>\n",
       "      <td>-400.627892</td>\n",
       "      <td>-400.626948</td>\n",
       "      <td>-400.662186</td>\n",
       "      <td>23.434</td>\n",
       "      <td>-1603.471865</td>\n",
       "      <td>-1614.455155</td>\n",
       "      <td>-1623.345075</td>\n",
       "      <td>-1492.247150</td>\n",
       "    </tr>\n",
       "  </tbody>\n",
       "</table>\n",
       "<p>133885 rows × 21 columns</p>\n",
       "</div>"
      ],
      "text/plain": [
       "            mol_id               smiles          A           B           C  \\\n",
       "0            gdb_1                    C  157.71180  157.709970  157.706990   \n",
       "1            gdb_2                    N  293.60975  293.541110  191.393970   \n",
       "2            gdb_3                    O  799.58812  437.903860  282.945450   \n",
       "3            gdb_4                  C#C    0.00000   35.610036   35.610036   \n",
       "4            gdb_5                  C#N    0.00000   44.593883   44.593883   \n",
       "...            ...                  ...        ...         ...         ...   \n",
       "133880  gdb_133881  C1C2C3C4C5OC14C5N23    3.59483    2.198990    1.904230   \n",
       "133881  gdb_133882  C1N2C3C2C2C4OC12C34    3.65648    2.142370    1.904390   \n",
       "133882  gdb_133883  C1N2C3C4C5C2C13CN45    3.67118    2.143140    1.895010   \n",
       "133883  gdb_133884  C1N2C3C4C5CC13C2C45    3.52845    2.151310    1.865820   \n",
       "133884  gdb_133885  C1N2C3C4C5OC13C2C45    3.64015    2.217640    1.937930   \n",
       "\n",
       "            mu  alpha    homo    lumo     gap  ...      zpve          u0  \\\n",
       "0       0.0000  13.21 -0.3877  0.1171  0.5048  ...  0.044749  -40.478930   \n",
       "1       1.6256   9.46 -0.2570  0.0829  0.3399  ...  0.034358  -56.525887   \n",
       "2       1.8511   6.31 -0.2928  0.0687  0.3615  ...  0.021375  -76.404702   \n",
       "3       0.0000  16.28 -0.2845  0.0506  0.3351  ...  0.026841  -77.308427   \n",
       "4       2.8937  12.99 -0.3604  0.0191  0.3796  ...  0.016601  -93.411888   \n",
       "...        ...    ...     ...     ...     ...  ...       ...         ...   \n",
       "133880  1.6637  69.37 -0.2254  0.0588  0.2842  ...  0.127406 -400.633868   \n",
       "133881  1.2976  69.52 -0.2393  0.0608  0.3002  ...  0.127495 -400.629713   \n",
       "133882  1.2480  73.60 -0.2233  0.0720  0.2953  ...  0.140458 -380.753918   \n",
       "133883  1.9576  77.40 -0.2122  0.0881  0.3003  ...  0.152222 -364.720374   \n",
       "133884  0.8626  69.48 -0.2316  0.0742  0.3058  ...  0.127862 -400.633052   \n",
       "\n",
       "              u298        h298        g298      cv      u0_atom    u298_atom  \\\n",
       "0       -40.476062  -40.475117  -40.498597   6.469  -395.999595  -398.643290   \n",
       "1       -56.523026  -56.522082  -56.544961   6.316  -276.861363  -278.620271   \n",
       "2       -76.401867  -76.400922  -76.422349   6.002  -213.087624  -213.974294   \n",
       "3       -77.305527  -77.304583  -77.327429   8.574  -385.501997  -387.237686   \n",
       "4       -93.409370  -93.408425  -93.431246   6.278  -301.820534  -302.906752   \n",
       "...            ...         ...         ...     ...          ...          ...   \n",
       "133880 -400.628599 -400.627654 -400.663098  23.658 -1603.983913 -1614.898804   \n",
       "133881 -400.624444 -400.623500 -400.658942  23.697 -1601.376613 -1612.291504   \n",
       "133882 -380.748619 -380.747675 -380.783148  23.972 -1667.045429 -1678.830048   \n",
       "133883 -364.714974 -364.714030 -364.749650  24.796 -1794.600439 -1807.210860   \n",
       "133884 -400.627892 -400.626948 -400.662186  23.434 -1603.471865 -1614.455155   \n",
       "\n",
       "          h298_atom    g298_atom  \n",
       "0       -401.014647  -372.471772  \n",
       "1       -280.399259  -259.338802  \n",
       "2       -215.159658  -201.407171  \n",
       "3       -389.016047  -365.800724  \n",
       "4       -304.091489  -288.720028  \n",
       "...             ...          ...  \n",
       "133880 -1623.788097 -1492.819438  \n",
       "133881 -1621.181424 -1490.211511  \n",
       "133882 -1688.312964 -1549.143391  \n",
       "133883 -1817.286772 -1670.349892  \n",
       "133884 -1623.345075 -1492.247150  \n",
       "\n",
       "[133885 rows x 21 columns]"
      ]
     },
     "metadata": {},
     "output_type": "display_data"
    }
   ],
   "source": [
    "# import data\n",
    "\n",
    "dataframe = pd.read_csv(\"data/MoleculeNet_QM9/qm9.csv\")\n",
    "\n",
    "print(\"Number of Molecules = \", len(dataframe))\n",
    "display(dataframe)"
   ]
  },
  {
   "cell_type": "code",
   "execution_count": 122,
   "metadata": {},
   "outputs": [],
   "source": [
    "# choose target variable\n",
    "\n",
    "target = \"u0_atom\""
   ]
  },
  {
   "cell_type": "code",
   "execution_count": 123,
   "metadata": {
    "colab": {
     "base_uri": "https://localhost:8080/",
     "height": 276
    },
    "colab_type": "code",
    "executionInfo": {
     "elapsed": 2024,
     "status": "ok",
     "timestamp": 1599858873012,
     "user": {
      "displayName": "Markus Dablander",
      "photoUrl": "",
      "userId": "13467664559539683865"
     },
     "user_tz": -120
    },
    "id": "BIm1m_9NSEaG",
    "outputId": "b8cea951-b524-4fc0-c760-db6be2b78673"
   },
   "outputs": [
    {
     "data": {
      "text/html": [
       "<div>\n",
       "<style scoped>\n",
       "    .dataframe tbody tr th:only-of-type {\n",
       "        vertical-align: middle;\n",
       "    }\n",
       "\n",
       "    .dataframe tbody tr th {\n",
       "        vertical-align: top;\n",
       "    }\n",
       "\n",
       "    .dataframe thead th {\n",
       "        text-align: right;\n",
       "    }\n",
       "</style>\n",
       "<table border=\"1\" class=\"dataframe\">\n",
       "  <thead>\n",
       "    <tr style=\"text-align: right;\">\n",
       "      <th></th>\n",
       "      <th>mol_id</th>\n",
       "      <th>smiles</th>\n",
       "      <th>A</th>\n",
       "      <th>B</th>\n",
       "      <th>C</th>\n",
       "      <th>mu</th>\n",
       "      <th>alpha</th>\n",
       "      <th>homo</th>\n",
       "      <th>lumo</th>\n",
       "      <th>gap</th>\n",
       "      <th>...</th>\n",
       "      <th>zpve</th>\n",
       "      <th>u0</th>\n",
       "      <th>u298</th>\n",
       "      <th>h298</th>\n",
       "      <th>g298</th>\n",
       "      <th>cv</th>\n",
       "      <th>u0_atom</th>\n",
       "      <th>u298_atom</th>\n",
       "      <th>h298_atom</th>\n",
       "      <th>g298_atom</th>\n",
       "    </tr>\n",
       "  </thead>\n",
       "  <tbody>\n",
       "  </tbody>\n",
       "</table>\n",
       "<p>0 rows × 21 columns</p>\n",
       "</div>"
      ],
      "text/plain": [
       "Empty DataFrame\n",
       "Columns: [mol_id, smiles, A, B, C, mu, alpha, homo, lumo, gap, r2, zpve, u0, u298, h298, g298, cv, u0_atom, u298_atom, h298_atom, g298_atom]\n",
       "Index: []\n",
       "\n",
       "[0 rows x 21 columns]"
      ]
     },
     "metadata": {},
     "output_type": "display_data"
    },
    {
     "data": {
      "text/html": [
       "<div>\n",
       "<style scoped>\n",
       "    .dataframe tbody tr th:only-of-type {\n",
       "        vertical-align: middle;\n",
       "    }\n",
       "\n",
       "    .dataframe tbody tr th {\n",
       "        vertical-align: top;\n",
       "    }\n",
       "\n",
       "    .dataframe thead th {\n",
       "        text-align: right;\n",
       "    }\n",
       "</style>\n",
       "<table border=\"1\" class=\"dataframe\">\n",
       "  <thead>\n",
       "    <tr style=\"text-align: right;\">\n",
       "      <th></th>\n",
       "      <th>mol_id</th>\n",
       "      <th>smiles</th>\n",
       "      <th>A</th>\n",
       "      <th>B</th>\n",
       "      <th>C</th>\n",
       "      <th>mu</th>\n",
       "      <th>alpha</th>\n",
       "      <th>homo</th>\n",
       "      <th>lumo</th>\n",
       "      <th>gap</th>\n",
       "      <th>...</th>\n",
       "      <th>zpve</th>\n",
       "      <th>u0</th>\n",
       "      <th>u298</th>\n",
       "      <th>h298</th>\n",
       "      <th>g298</th>\n",
       "      <th>cv</th>\n",
       "      <th>u0_atom</th>\n",
       "      <th>u298_atom</th>\n",
       "      <th>h298_atom</th>\n",
       "      <th>g298_atom</th>\n",
       "    </tr>\n",
       "  </thead>\n",
       "  <tbody>\n",
       "  </tbody>\n",
       "</table>\n",
       "<p>0 rows × 21 columns</p>\n",
       "</div>"
      ],
      "text/plain": [
       "Empty DataFrame\n",
       "Columns: [mol_id, smiles, A, B, C, mu, alpha, homo, lumo, gap, r2, zpve, u0, u298, h298, g298, cv, u0_atom, u298_atom, h298_atom, g298_atom]\n",
       "Index: []\n",
       "\n",
       "[0 rows x 21 columns]"
      ]
     },
     "metadata": {},
     "output_type": "display_data"
    }
   ],
   "source": [
    "# check for missing values (i.e. NA values)\n",
    "\n",
    "display(dataframe[dataframe['smiles'].isnull()])\n",
    "display(dataframe[dataframe[target].isnull()])"
   ]
  },
  {
   "cell_type": "code",
   "execution_count": 124,
   "metadata": {
    "colab": {},
    "colab_type": "code",
    "id": "oFu7W-IlSEaN"
   },
   "outputs": [
    {
     "name": "stdout",
     "output_type": "stream",
     "text": [
      "133885\n"
     ]
    }
   ],
   "source": [
    "# filter out Smiles which produce error messages in rdkit\n",
    "\n",
    "bad_smiles = []\n",
    "\n",
    "for k in range(len(dataframe[\"smiles\"].values)):\n",
    "\n",
    "    smiles = dataframe[\"smiles\"].values[k]\n",
    "    \n",
    "    sio = sys.stderr = StringIO()\n",
    "    Chem.MolFromSmiles(smiles)\n",
    "    error_message = sio.getvalue()\n",
    "    \n",
    "    if error_message != \"\" and error_message[0:13] != \"RDKit WARNING\":\n",
    "        print(k)\n",
    "        #print(error_message)\n",
    "        print(smiles, \"\\n \\n \\n \\n\")\n",
    "        bad_smiles.append(smiles)\n",
    "\n",
    "dataframe = dataframe[dataframe[\"smiles\"].isin(bad_smiles) == False]\n",
    "\n",
    "print(len(dataframe))"
   ]
  },
  {
   "cell_type": "code",
   "execution_count": 125,
   "metadata": {},
   "outputs": [
    {
     "name": "stdout",
     "output_type": "stream",
     "text": [
      "Number of Molecules =  133885\n"
     ]
    }
   ],
   "source": [
    "# define number of molecules\n",
    "\n",
    "N_molecules = len(dataframe[\"smiles\"].values)\n",
    "\n",
    "print(\"Number of Molecules = \", N_molecules)"
   ]
  },
  {
   "cell_type": "code",
   "execution_count": 126,
   "metadata": {
    "colab": {
     "base_uri": "https://localhost:8080/",
     "height": 90
    },
    "colab_type": "code",
    "executionInfo": {
     "elapsed": 771,
     "status": "ok",
     "timestamp": 1599869443976,
     "user": {
      "displayName": "Markus Dablander",
      "photoUrl": "",
      "userId": "13467664559539683865"
     },
     "user_tz": -120
    },
    "id": "M1aIBqplSEaq",
    "outputId": "d9c43474-c7b7-4622-da65-6ebe36c9c3a1"
   },
   "outputs": [
    {
     "name": "stdout",
     "output_type": "stream",
     "text": [
      "Average Value -1750.8129969943022\n",
      "Standard Deviation  239.31247970393602\n",
      "Shape of y =  (133885,)\n",
      "Shape of Y =  (133885, 1)\n",
      "\n",
      " y =  [ -395.99959459  -276.86136336  -213.08762369 ... -1667.04542947\n",
      " -1794.60043892 -1603.47186517]\n"
     ]
    }
   ],
   "source": [
    "# construct target variable y/Y (hERG inhibition)\n",
    "\n",
    "# extract labels\n",
    "y = dataframe.loc[:, target].values\n",
    "Y = np.reshape(y, (len(y), 1))\n",
    "\n",
    "print(\"Average Value\", np.mean(y))\n",
    "print(\"Standard Deviation \", np.std(y))\n",
    "\n",
    "\n",
    "print(\"Shape of y = \", y.shape)\n",
    "print(\"Shape of Y = \", Y.shape)\n",
    "\n",
    "print(\"\\n y = \", y)\n"
   ]
  },
  {
   "cell_type": "code",
   "execution_count": 130,
   "metadata": {},
   "outputs": [
    {
     "name": "stdout",
     "output_type": "stream",
     "text": [
      "Average Value 4.7551726574377245e-17\n",
      "Standard Deviation  1.0\n",
      "Shape of y =  (133885,)\n",
      "Shape of Y =  (133885, 1)\n",
      "\n",
      " y =  [ 5.66127351  6.15910894  6.42559625 ...  0.35003426 -0.18297183\n",
      "  0.61568512]\n"
     ]
    }
   ],
   "source": [
    "# z-transform target variable Y/y to mean 0 and std 1\n",
    "\n",
    "# z-transform\n",
    "y = (y - np.mean(y))/np.std(y)\n",
    "Y = np.reshape(y, (len(y), 1))\n",
    "\n",
    "print(\"Average Value\", np.mean(y))\n",
    "print(\"Standard Deviation \", np.std(y))\n",
    "\n",
    "\n",
    "print(\"Shape of y = \", y.shape)\n",
    "print(\"Shape of Y = \", Y.shape)\n",
    "\n",
    "print(\"\\n y = \", y)"
   ]
  },
  {
   "cell_type": "code",
   "execution_count": 131,
   "metadata": {},
   "outputs": [
    {
     "data": {
      "image/png": "[encoded data removed]",
      "text/plain": [
       "<Figure size 432x288 with 1 Axes>"
      ]
     },
     "metadata": {
      "needs_background": "light"
     },
     "output_type": "display_data"
    }
   ],
   "source": [
    "# plot histogram of target variable Y/y\n",
    "\n",
    "plt.hist(y, bins = 100);"
   ]
  },
  {
   "cell_type": "code",
   "execution_count": 132,
   "metadata": {
    "colab": {
     "base_uri": "https://localhost:8080/",
     "height": 222
    },
    "colab_type": "code",
    "executionInfo": {
     "elapsed": 444,
     "status": "ok",
     "timestamp": 1599869444377,
     "user": {
      "displayName": "Markus Dablander",
      "photoUrl": "",
      "userId": "13467664559539683865"
     },
     "user_tz": -120
    },
    "id": "PB82_jFUSEav",
    "outputId": "f151bbf0-8894-45c1-bd95-e747bc7c74b5"
   },
   "outputs": [
    {
     "name": "stdout",
     "output_type": "stream",
     "text": [
      "                  Smiles String\n",
      "C\n"
     ]
    },
    {
     "data": {
      "image/png": "[encoded data removed]",
      "text/plain": [
       "<rdkit.Chem.rdchem.Mol at 0x7f8a7a6e0030>"
      ]
     },
     "metadata": {},
     "output_type": "display_data"
    },
    {
     "name": "stdout",
     "output_type": "stream",
     "text": [
      "Shape of x_smiles =  (133885,)\n",
      "Shape of X_smiles =  (133885, 1)\n",
      "\n",
      " x_smiles =  ['C' 'N' 'O' 'C#C' 'C#N' 'C=O' 'CC' 'CO' 'CC#C' 'CC#N']\n"
     ]
    }
   ],
   "source": [
    "# extract Smiles strings\n",
    "\n",
    "X_smiles = np.reshape(dataframe[\"smiles\"].values, (N_molecules, 1))\n",
    "x_smiles = X_smiles[:,0]\n",
    "\n",
    "print(\"                  Smiles String\")\n",
    "print(X_smiles[0:1][0][0])\n",
    "\n",
    "for s in x_smiles[0:1]:\n",
    "    molecule = Chem.MolFromSmiles(s)\n",
    "    display(molecule)\n",
    "    \n",
    "print(\"Shape of x_smiles = \", x_smiles.shape)\n",
    "print(\"Shape of X_smiles = \", X_smiles.shape)\n",
    "\n",
    "print(\"\\n x_smiles = \", x_smiles[0:10])"
   ]
  },
  {
   "cell_type": "markdown",
   "metadata": {
    "collapsed": "true"
   },
   "source": [
    "## Prepare Data: MoleculeNet_ESOL"
   ]
  },
  {
   "cell_type": "code",
   "execution_count": 26,
   "metadata": {
    "colab": {
     "base_uri": "https://localhost:8080/",
     "height": 225
    },
    "colab_type": "code",
    "executionInfo": {
     "elapsed": 429,
     "status": "ok",
     "timestamp": 1599869437487,
     "user": {
      "displayName": "Markus Dablander",
      "photoUrl": "",
      "userId": "13467664559539683865"
     },
     "user_tz": -120
    },
    "id": "FpdNzlmISEaA",
    "outputId": "c37aae09-ccfe-4f8a-dccc-6006309b2074"
   },
   "outputs": [
    {
     "name": "stdout",
     "output_type": "stream",
     "text": [
      "Number of Molecules =  1128\n"
     ]
    },
    {
     "data": {
      "text/html": [
       "<div>\n",
       "<style scoped>\n",
       "    .dataframe tbody tr th:only-of-type {\n",
       "        vertical-align: middle;\n",
       "    }\n",
       "\n",
       "    .dataframe tbody tr th {\n",
       "        vertical-align: top;\n",
       "    }\n",
       "\n",
       "    .dataframe thead th {\n",
       "        text-align: right;\n",
       "    }\n",
       "</style>\n",
       "<table border=\"1\" class=\"dataframe\">\n",
       "  <thead>\n",
       "    <tr style=\"text-align: right;\">\n",
       "      <th></th>\n",
       "      <th>Compound ID</th>\n",
       "      <th>ESOL predicted log solubility in mols per litre</th>\n",
       "      <th>Minimum Degree</th>\n",
       "      <th>Molecular Weight</th>\n",
       "      <th>Number of H-Bond Donors</th>\n",
       "      <th>Number of Rings</th>\n",
       "      <th>Number of Rotatable Bonds</th>\n",
       "      <th>Polar Surface Area</th>\n",
       "      <th>measured log solubility in mols per litre</th>\n",
       "      <th>smiles</th>\n",
       "    </tr>\n",
       "  </thead>\n",
       "  <tbody>\n",
       "    <tr>\n",
       "      <th>0</th>\n",
       "      <td>Amigdalin</td>\n",
       "      <td>-0.974</td>\n",
       "      <td>1</td>\n",
       "      <td>457.432</td>\n",
       "      <td>7</td>\n",
       "      <td>3</td>\n",
       "      <td>7</td>\n",
       "      <td>202.32</td>\n",
       "      <td>-0.770</td>\n",
       "      <td>OCC3OC(OCC2OC(OC(C#N)c1ccccc1)C(O)C(O)C2O)C(O)...</td>\n",
       "    </tr>\n",
       "    <tr>\n",
       "      <th>1</th>\n",
       "      <td>Fenfuram</td>\n",
       "      <td>-2.885</td>\n",
       "      <td>1</td>\n",
       "      <td>201.225</td>\n",
       "      <td>1</td>\n",
       "      <td>2</td>\n",
       "      <td>2</td>\n",
       "      <td>42.24</td>\n",
       "      <td>-3.300</td>\n",
       "      <td>Cc1occc1C(=O)Nc2ccccc2</td>\n",
       "    </tr>\n",
       "    <tr>\n",
       "      <th>2</th>\n",
       "      <td>citral</td>\n",
       "      <td>-2.579</td>\n",
       "      <td>1</td>\n",
       "      <td>152.237</td>\n",
       "      <td>0</td>\n",
       "      <td>0</td>\n",
       "      <td>4</td>\n",
       "      <td>17.07</td>\n",
       "      <td>-2.060</td>\n",
       "      <td>CC(C)=CCCC(C)=CC(=O)</td>\n",
       "    </tr>\n",
       "    <tr>\n",
       "      <th>3</th>\n",
       "      <td>Picene</td>\n",
       "      <td>-6.618</td>\n",
       "      <td>2</td>\n",
       "      <td>278.354</td>\n",
       "      <td>0</td>\n",
       "      <td>5</td>\n",
       "      <td>0</td>\n",
       "      <td>0.00</td>\n",
       "      <td>-7.870</td>\n",
       "      <td>c1ccc2c(c1)ccc3c2ccc4c5ccccc5ccc43</td>\n",
       "    </tr>\n",
       "    <tr>\n",
       "      <th>4</th>\n",
       "      <td>Thiophene</td>\n",
       "      <td>-2.232</td>\n",
       "      <td>2</td>\n",
       "      <td>84.143</td>\n",
       "      <td>0</td>\n",
       "      <td>1</td>\n",
       "      <td>0</td>\n",
       "      <td>0.00</td>\n",
       "      <td>-1.330</td>\n",
       "      <td>c1ccsc1</td>\n",
       "    </tr>\n",
       "    <tr>\n",
       "      <th>...</th>\n",
       "      <td>...</td>\n",
       "      <td>...</td>\n",
       "      <td>...</td>\n",
       "      <td>...</td>\n",
       "      <td>...</td>\n",
       "      <td>...</td>\n",
       "      <td>...</td>\n",
       "      <td>...</td>\n",
       "      <td>...</td>\n",
       "      <td>...</td>\n",
       "    </tr>\n",
       "    <tr>\n",
       "      <th>1123</th>\n",
       "      <td>halothane</td>\n",
       "      <td>-2.608</td>\n",
       "      <td>1</td>\n",
       "      <td>197.381</td>\n",
       "      <td>0</td>\n",
       "      <td>0</td>\n",
       "      <td>0</td>\n",
       "      <td>0.00</td>\n",
       "      <td>-1.710</td>\n",
       "      <td>FC(F)(F)C(Cl)Br</td>\n",
       "    </tr>\n",
       "    <tr>\n",
       "      <th>1124</th>\n",
       "      <td>Oxamyl</td>\n",
       "      <td>-0.908</td>\n",
       "      <td>1</td>\n",
       "      <td>219.266</td>\n",
       "      <td>1</td>\n",
       "      <td>0</td>\n",
       "      <td>1</td>\n",
       "      <td>71.00</td>\n",
       "      <td>0.106</td>\n",
       "      <td>CNC(=O)ON=C(SC)C(=O)N(C)C</td>\n",
       "    </tr>\n",
       "    <tr>\n",
       "      <th>1125</th>\n",
       "      <td>Thiometon</td>\n",
       "      <td>-3.323</td>\n",
       "      <td>1</td>\n",
       "      <td>246.359</td>\n",
       "      <td>0</td>\n",
       "      <td>0</td>\n",
       "      <td>7</td>\n",
       "      <td>18.46</td>\n",
       "      <td>-3.091</td>\n",
       "      <td>CCSCCSP(=S)(OC)OC</td>\n",
       "    </tr>\n",
       "    <tr>\n",
       "      <th>1126</th>\n",
       "      <td>2-Methylbutane</td>\n",
       "      <td>-2.245</td>\n",
       "      <td>1</td>\n",
       "      <td>72.151</td>\n",
       "      <td>0</td>\n",
       "      <td>0</td>\n",
       "      <td>1</td>\n",
       "      <td>0.00</td>\n",
       "      <td>-3.180</td>\n",
       "      <td>CCC(C)C</td>\n",
       "    </tr>\n",
       "    <tr>\n",
       "      <th>1127</th>\n",
       "      <td>Stirofos</td>\n",
       "      <td>-4.320</td>\n",
       "      <td>1</td>\n",
       "      <td>365.964</td>\n",
       "      <td>0</td>\n",
       "      <td>1</td>\n",
       "      <td>5</td>\n",
       "      <td>44.76</td>\n",
       "      <td>-4.522</td>\n",
       "      <td>COP(=O)(OC)OC(=CCl)c1cc(Cl)c(Cl)cc1Cl</td>\n",
       "    </tr>\n",
       "  </tbody>\n",
       "</table>\n",
       "<p>1128 rows × 10 columns</p>\n",
       "</div>"
      ],
      "text/plain": [
       "         Compound ID  ESOL predicted log solubility in mols per litre  \\\n",
       "0          Amigdalin                                           -0.974   \n",
       "1           Fenfuram                                           -2.885   \n",
       "2             citral                                           -2.579   \n",
       "3             Picene                                           -6.618   \n",
       "4          Thiophene                                           -2.232   \n",
       "...              ...                                              ...   \n",
       "1123       halothane                                           -2.608   \n",
       "1124          Oxamyl                                           -0.908   \n",
       "1125       Thiometon                                           -3.323   \n",
       "1126  2-Methylbutane                                           -2.245   \n",
       "1127        Stirofos                                           -4.320   \n",
       "\n",
       "      Minimum Degree  Molecular Weight  Number of H-Bond Donors  \\\n",
       "0                  1           457.432                        7   \n",
       "1                  1           201.225                        1   \n",
       "2                  1           152.237                        0   \n",
       "3                  2           278.354                        0   \n",
       "4                  2            84.143                        0   \n",
       "...              ...               ...                      ...   \n",
       "1123               1           197.381                        0   \n",
       "1124               1           219.266                        1   \n",
       "1125               1           246.359                        0   \n",
       "1126               1            72.151                        0   \n",
       "1127               1           365.964                        0   \n",
       "\n",
       "      Number of Rings  Number of Rotatable Bonds  Polar Surface Area  \\\n",
       "0                   3                          7              202.32   \n",
       "1                   2                          2               42.24   \n",
       "2                   0                          4               17.07   \n",
       "3                   5                          0                0.00   \n",
       "4                   1                          0                0.00   \n",
       "...               ...                        ...                 ...   \n",
       "1123                0                          0                0.00   \n",
       "1124                0                          1               71.00   \n",
       "1125                0                          7               18.46   \n",
       "1126                0                          1                0.00   \n",
       "1127                1                          5               44.76   \n",
       "\n",
       "      measured log solubility in mols per litre  \\\n",
       "0                                        -0.770   \n",
       "1                                        -3.300   \n",
       "2                                        -2.060   \n",
       "3                                        -7.870   \n",
       "4                                        -1.330   \n",
       "...                                         ...   \n",
       "1123                                     -1.710   \n",
       "1124                                      0.106   \n",
       "1125                                     -3.091   \n",
       "1126                                     -3.180   \n",
       "1127                                     -4.522   \n",
       "\n",
       "                                                 smiles  \n",
       "0     OCC3OC(OCC2OC(OC(C#N)c1ccccc1)C(O)C(O)C2O)C(O)...  \n",
       "1                                Cc1occc1C(=O)Nc2ccccc2  \n",
       "2                                  CC(C)=CCCC(C)=CC(=O)  \n",
       "3                    c1ccc2c(c1)ccc3c2ccc4c5ccccc5ccc43  \n",
       "4                                               c1ccsc1  \n",
       "...                                                 ...  \n",
       "1123                                   FC(F)(F)C(Cl)Br   \n",
       "1124                          CNC(=O)ON=C(SC)C(=O)N(C)C  \n",
       "1125                                  CCSCCSP(=S)(OC)OC  \n",
       "1126                                            CCC(C)C  \n",
       "1127              COP(=O)(OC)OC(=CCl)c1cc(Cl)c(Cl)cc1Cl  \n",
       "\n",
       "[1128 rows x 10 columns]"
      ]
     },
     "metadata": {},
     "output_type": "display_data"
    }
   ],
   "source": [
    "# import data \n",
    "\n",
    "dataframe = pd.read_csv(\"data/MoleculeNet_ESOL/esol.csv\")\n",
    "\n",
    "print(\"Number of Molecules = \", len(dataframe))\n",
    "display(dataframe)"
   ]
  },
  {
   "cell_type": "code",
   "execution_count": 223,
   "metadata": {
    "colab": {
     "base_uri": "https://localhost:8080/",
     "height": 276
    },
    "colab_type": "code",
    "executionInfo": {
     "elapsed": 2024,
     "status": "ok",
     "timestamp": 1599858873012,
     "user": {
      "displayName": "Markus Dablander",
      "photoUrl": "",
      "userId": "13467664559539683865"
     },
     "user_tz": -120
    },
    "id": "BIm1m_9NSEaG",
    "outputId": "b8cea951-b524-4fc0-c760-db6be2b78673"
   },
   "outputs": [
    {
     "data": {
      "text/html": [
       "<div>\n",
       "<style scoped>\n",
       "    .dataframe tbody tr th:only-of-type {\n",
       "        vertical-align: middle;\n",
       "    }\n",
       "\n",
       "    .dataframe tbody tr th {\n",
       "        vertical-align: top;\n",
       "    }\n",
       "\n",
       "    .dataframe thead th {\n",
       "        text-align: right;\n",
       "    }\n",
       "</style>\n",
       "<table border=\"1\" class=\"dataframe\">\n",
       "  <thead>\n",
       "    <tr style=\"text-align: right;\">\n",
       "      <th></th>\n",
       "      <th>Compound ID</th>\n",
       "      <th>ESOL predicted log solubility in mols per litre</th>\n",
       "      <th>Minimum Degree</th>\n",
       "      <th>Molecular Weight</th>\n",
       "      <th>Number of H-Bond Donors</th>\n",
       "      <th>Number of Rings</th>\n",
       "      <th>Number of Rotatable Bonds</th>\n",
       "      <th>Polar Surface Area</th>\n",
       "      <th>measured log solubility in mols per litre</th>\n",
       "      <th>smiles</th>\n",
       "    </tr>\n",
       "  </thead>\n",
       "  <tbody>\n",
       "  </tbody>\n",
       "</table>\n",
       "</div>"
      ],
      "text/plain": [
       "Empty DataFrame\n",
       "Columns: [Compound ID, ESOL predicted log solubility in mols per litre, Minimum Degree, Molecular Weight, Number of H-Bond Donors, Number of Rings, Number of Rotatable Bonds, Polar Surface Area, measured log solubility in mols per litre, smiles]\n",
       "Index: []"
      ]
     },
     "metadata": {},
     "output_type": "display_data"
    },
    {
     "data": {
      "text/html": [
       "<div>\n",
       "<style scoped>\n",
       "    .dataframe tbody tr th:only-of-type {\n",
       "        vertical-align: middle;\n",
       "    }\n",
       "\n",
       "    .dataframe tbody tr th {\n",
       "        vertical-align: top;\n",
       "    }\n",
       "\n",
       "    .dataframe thead th {\n",
       "        text-align: right;\n",
       "    }\n",
       "</style>\n",
       "<table border=\"1\" class=\"dataframe\">\n",
       "  <thead>\n",
       "    <tr style=\"text-align: right;\">\n",
       "      <th></th>\n",
       "      <th>Compound ID</th>\n",
       "      <th>ESOL predicted log solubility in mols per litre</th>\n",
       "      <th>Minimum Degree</th>\n",
       "      <th>Molecular Weight</th>\n",
       "      <th>Number of H-Bond Donors</th>\n",
       "      <th>Number of Rings</th>\n",
       "      <th>Number of Rotatable Bonds</th>\n",
       "      <th>Polar Surface Area</th>\n",
       "      <th>measured log solubility in mols per litre</th>\n",
       "      <th>smiles</th>\n",
       "    </tr>\n",
       "  </thead>\n",
       "  <tbody>\n",
       "  </tbody>\n",
       "</table>\n",
       "</div>"
      ],
      "text/plain": [
       "Empty DataFrame\n",
       "Columns: [Compound ID, ESOL predicted log solubility in mols per litre, Minimum Degree, Molecular Weight, Number of H-Bond Donors, Number of Rings, Number of Rotatable Bonds, Polar Surface Area, measured log solubility in mols per litre, smiles]\n",
       "Index: []"
      ]
     },
     "metadata": {},
     "output_type": "display_data"
    }
   ],
   "source": [
    "# check for missing values (i.e. NA values)\n",
    "\n",
    "display(dataframe[dataframe['smiles'].isnull()])\n",
    "display(dataframe[dataframe['measured log solubility in mols per litre'].isnull()])"
   ]
  },
  {
   "cell_type": "code",
   "execution_count": 224,
   "metadata": {
    "colab": {},
    "colab_type": "code",
    "id": "oFu7W-IlSEaN"
   },
   "outputs": [
    {
     "name": "stdout",
     "output_type": "stream",
     "text": [
      "1128\n"
     ]
    }
   ],
   "source": [
    "# filter out Smiles which produce error messages in rdkit\n",
    "\n",
    "bad_smiles = []\n",
    "\n",
    "for k in range(len(dataframe[\"smiles\"].values)):\n",
    "\n",
    "    smiles = dataframe[\"smiles\"].values[k]\n",
    "    \n",
    "    sio = sys.stderr = StringIO()\n",
    "    Chem.MolFromSmiles(smiles)\n",
    "    error_message = sio.getvalue()\n",
    "    \n",
    "    if error_message != \"\" and error_message[0:13] != \"RDKit WARNING\":\n",
    "        print(k)\n",
    "        #print(error_message)\n",
    "        print(smiles, \"\\n \\n \\n \\n\")\n",
    "        bad_smiles.append(smiles)\n",
    "\n",
    "dataframe = dataframe[dataframe[\"smiles\"].isin(bad_smiles) == False]\n",
    "\n",
    "print(len(dataframe))"
   ]
  },
  {
   "cell_type": "code",
   "execution_count": 225,
   "metadata": {},
   "outputs": [
    {
     "name": "stdout",
     "output_type": "stream",
     "text": [
      "Number of Molecules =  1128\n"
     ]
    }
   ],
   "source": [
    "# define number of molecules\n",
    "\n",
    "N_molecules = len(dataframe[\"smiles\"].values)\n",
    "\n",
    "print(\"Number of Molecules = \", N_molecules)"
   ]
  },
  {
   "cell_type": "code",
   "execution_count": 229,
   "metadata": {
    "colab": {
     "base_uri": "https://localhost:8080/",
     "height": 90
    },
    "colab_type": "code",
    "executionInfo": {
     "elapsed": 771,
     "status": "ok",
     "timestamp": 1599869443976,
     "user": {
      "displayName": "Markus Dablander",
      "photoUrl": "",
      "userId": "13467664559539683865"
     },
     "user_tz": -120
    },
    "id": "M1aIBqplSEaq",
    "outputId": "d9c43474-c7b7-4622-da65-6ebe36c9c3a1"
   },
   "outputs": [
    {
     "name": "stdout",
     "output_type": "stream",
     "text": [
      "Average Value -3.05010195035461\n",
      "Standard Deviation  2.0955117304559443\n",
      "Shape of y =  (1128,)\n",
      "Shape of Y =  (1128, 1)\n",
      "\n",
      " y =  [-0.77  -3.3   -2.06  ... -3.091 -3.18  -4.522]\n"
     ]
    }
   ],
   "source": [
    "# construct target variable y/Y (hERG inhibition)\n",
    "\n",
    "# extract labels\n",
    "y = dataframe.loc[:,\"measured log solubility in mols per litre\"].values\n",
    "Y = np.reshape(y, (len(y), 1))\n",
    "\n",
    "print(\"Average Value\", np.mean(y))\n",
    "print(\"Standard Deviation \", np.std(y))\n",
    "\n",
    "\n",
    "print(\"Shape of y = \", y.shape)\n",
    "print(\"Shape of Y = \", Y.shape)\n",
    "\n",
    "print(\"\\n y = \", y)\n"
   ]
  },
  {
   "cell_type": "code",
   "execution_count": 228,
   "metadata": {},
   "outputs": [
    {
     "name": "stdout",
     "output_type": "stream",
     "text": [
      "Average Value -5.118049404300367e-17\n",
      "Standard Deviation  1.0\n",
      "Shape of y =  (1128,)\n",
      "Shape of Y =  (1128, 1)\n",
      "\n",
      " y =  [ 1.08808837 -0.11925395  0.47248695 ... -0.01951697 -0.0619887\n",
      " -0.70240506]\n"
     ]
    }
   ],
   "source": [
    "# z-transform target variable Y/y to mean 0 and std 1\n",
    "\n",
    "# z-transform\n",
    "y = (y - np.mean(y))/np.std(y)\n",
    "Y = np.reshape(y, (len(y), 1))\n",
    "\n",
    "print(\"Average Value\", np.mean(y))\n",
    "print(\"Standard Deviation \", np.std(y))\n",
    "\n",
    "\n",
    "print(\"Shape of y = \", y.shape)\n",
    "print(\"Shape of Y = \", Y.shape)\n",
    "\n",
    "print(\"\\n y = \", y)"
   ]
  },
  {
   "cell_type": "code",
   "execution_count": 230,
   "metadata": {},
   "outputs": [
    {
     "data": {
      "image/png": "[encoded data removed]",
      "text/plain": [
       "<Figure size 432x288 with 1 Axes>"
      ]
     },
     "metadata": {
      "needs_background": "light"
     },
     "output_type": "display_data"
    }
   ],
   "source": [
    "# plot histogram of target variable Y/y\n",
    "\n",
    "plt.hist(y, bins = 100);"
   ]
  },
  {
   "cell_type": "code",
   "execution_count": 231,
   "metadata": {
    "colab": {
     "base_uri": "https://localhost:8080/",
     "height": 222
    },
    "colab_type": "code",
    "executionInfo": {
     "elapsed": 444,
     "status": "ok",
     "timestamp": 1599869444377,
     "user": {
      "displayName": "Markus Dablander",
      "photoUrl": "",
      "userId": "13467664559539683865"
     },
     "user_tz": -120
    },
    "id": "PB82_jFUSEav",
    "outputId": "f151bbf0-8894-45c1-bd95-e747bc7c74b5"
   },
   "outputs": [
    {
     "name": "stdout",
     "output_type": "stream",
     "text": [
      "                  Smiles String\n",
      "OCC3OC(OCC2OC(OC(C#N)c1ccccc1)C(O)C(O)C2O)C(O)C(O)C3O \n"
     ]
    },
    {
     "data": {
      "image/png": "[encoded data removed]",
      "text/plain": [
       "<rdkit.Chem.rdchem.Mol at 0x7f8a79eb63a0>"
      ]
     },
     "metadata": {},
     "output_type": "display_data"
    },
    {
     "name": "stdout",
     "output_type": "stream",
     "text": [
      "Shape of x_smiles =  (1128,)\n",
      "Shape of X_smiles =  (1128, 1)\n",
      "\n",
      " x_smiles =  ['OCC3OC(OCC2OC(OC(C#N)c1ccccc1)C(O)C(O)C2O)C(O)C(O)C3O '\n",
      " 'Cc1occc1C(=O)Nc2ccccc2' 'CC(C)=CCCC(C)=CC(=O)'\n",
      " 'c1ccc2c(c1)ccc3c2ccc4c5ccccc5ccc43' 'c1ccsc1' 'c2ccc1scnc1c2 '\n",
      " 'Clc1cc(Cl)c(c(Cl)c1)c2c(Cl)cccc2Cl' 'CC12CCC3C(CCc4cc(O)ccc34)C2CCC1O'\n",
      " 'ClC4=C(Cl)C5(Cl)C3C1CC(C2OC12)C3C4(Cl)C5(Cl)Cl'\n",
      " 'COc5cc4OCC3Oc2c1CC(Oc1ccc2C(=O)C3c4cc5OC)C(C)=C ']\n"
     ]
    }
   ],
   "source": [
    "# extract Smiles strings\n",
    "\n",
    "X_smiles = np.reshape(dataframe[\"smiles\"].values, (N_molecules, 1))\n",
    "x_smiles = X_smiles[:,0]\n",
    "\n",
    "print(\"                  Smiles String\")\n",
    "print(X_smiles[0:1][0][0])\n",
    "\n",
    "for s in x_smiles[0:1]:\n",
    "    molecule = Chem.MolFromSmiles(s)\n",
    "    display(molecule)\n",
    "    \n",
    "print(\"Shape of x_smiles = \", x_smiles.shape)\n",
    "print(\"Shape of X_smiles = \", X_smiles.shape)\n",
    "\n",
    "print(\"\\n x_smiles = \", x_smiles[0:10])"
   ]
  },
  {
   "cell_type": "markdown",
   "metadata": {
    "collapsed": "true"
   },
   "source": [
    "## Prepare Data: MoleculeNet_Lipophilicity"
   ]
  },
  {
   "cell_type": "code",
   "execution_count": 27,
   "metadata": {
    "colab": {
     "base_uri": "https://localhost:8080/",
     "height": 225
    },
    "colab_type": "code",
    "executionInfo": {
     "elapsed": 429,
     "status": "ok",
     "timestamp": 1599869437487,
     "user": {
      "displayName": "Markus Dablander",
      "photoUrl": "",
      "userId": "13467664559539683865"
     },
     "user_tz": -120
    },
    "id": "FpdNzlmISEaA",
    "outputId": "c37aae09-ccfe-4f8a-dccc-6006309b2074"
   },
   "outputs": [
    {
     "name": "stdout",
     "output_type": "stream",
     "text": [
      "Number of Molecules =  4200\n"
     ]
    },
    {
     "data": {
      "text/html": [
       "<div>\n",
       "<style scoped>\n",
       "    .dataframe tbody tr th:only-of-type {\n",
       "        vertical-align: middle;\n",
       "    }\n",
       "\n",
       "    .dataframe tbody tr th {\n",
       "        vertical-align: top;\n",
       "    }\n",
       "\n",
       "    .dataframe thead th {\n",
       "        text-align: right;\n",
       "    }\n",
       "</style>\n",
       "<table border=\"1\" class=\"dataframe\">\n",
       "  <thead>\n",
       "    <tr style=\"text-align: right;\">\n",
       "      <th></th>\n",
       "      <th>CMPD_CHEMBLID</th>\n",
       "      <th>exp</th>\n",
       "      <th>smiles</th>\n",
       "    </tr>\n",
       "  </thead>\n",
       "  <tbody>\n",
       "    <tr>\n",
       "      <th>0</th>\n",
       "      <td>CHEMBL596271</td>\n",
       "      <td>3.54</td>\n",
       "      <td>Cn1c(CN2CCN(CC2)c3ccc(Cl)cc3)nc4ccccc14</td>\n",
       "    </tr>\n",
       "    <tr>\n",
       "      <th>1</th>\n",
       "      <td>CHEMBL1951080</td>\n",
       "      <td>-1.18</td>\n",
       "      <td>COc1cc(OC)c(cc1NC(=O)CSCC(=O)O)S(=O)(=O)N2C(C)...</td>\n",
       "    </tr>\n",
       "    <tr>\n",
       "      <th>2</th>\n",
       "      <td>CHEMBL1771</td>\n",
       "      <td>3.69</td>\n",
       "      <td>COC(=O)[C@@H](N1CCc2sccc2C1)c3ccccc3Cl</td>\n",
       "    </tr>\n",
       "    <tr>\n",
       "      <th>3</th>\n",
       "      <td>CHEMBL234951</td>\n",
       "      <td>3.37</td>\n",
       "      <td>OC[C@H](O)CN1C(=O)C(Cc2ccccc12)NC(=O)c3cc4cc(C...</td>\n",
       "    </tr>\n",
       "    <tr>\n",
       "      <th>4</th>\n",
       "      <td>CHEMBL565079</td>\n",
       "      <td>3.10</td>\n",
       "      <td>Cc1cccc(C[C@H](NC(=O)c2cc(nn2C)C(C)(C)C)C(=O)N...</td>\n",
       "    </tr>\n",
       "    <tr>\n",
       "      <th>...</th>\n",
       "      <td>...</td>\n",
       "      <td>...</td>\n",
       "      <td>...</td>\n",
       "    </tr>\n",
       "    <tr>\n",
       "      <th>4195</th>\n",
       "      <td>CHEMBL496929</td>\n",
       "      <td>3.85</td>\n",
       "      <td>OCCc1ccc(NC(=O)c2cc3cc(Cl)ccc3[nH]2)cc1</td>\n",
       "    </tr>\n",
       "    <tr>\n",
       "      <th>4196</th>\n",
       "      <td>CHEMBL199147</td>\n",
       "      <td>3.21</td>\n",
       "      <td>CCN(C1CCN(CCC(c2ccc(F)cc2)c3ccc(F)cc3)CC1)C(=O...</td>\n",
       "    </tr>\n",
       "    <tr>\n",
       "      <th>4197</th>\n",
       "      <td>CHEMBL15932</td>\n",
       "      <td>2.10</td>\n",
       "      <td>COc1cccc2[nH]ncc12</td>\n",
       "    </tr>\n",
       "    <tr>\n",
       "      <th>4198</th>\n",
       "      <td>CHEMBL558748</td>\n",
       "      <td>2.65</td>\n",
       "      <td>Clc1ccc2ncccc2c1C(=O)NCC3CCCCC3</td>\n",
       "    </tr>\n",
       "    <tr>\n",
       "      <th>4199</th>\n",
       "      <td>CHEMBL237889</td>\n",
       "      <td>2.70</td>\n",
       "      <td>CN1C(=O)C=C(CCc2ccc3ccccc3c2)N=C1N</td>\n",
       "    </tr>\n",
       "  </tbody>\n",
       "</table>\n",
       "<p>4200 rows × 3 columns</p>\n",
       "</div>"
      ],
      "text/plain": [
       "      CMPD_CHEMBLID   exp                                             smiles\n",
       "0      CHEMBL596271  3.54            Cn1c(CN2CCN(CC2)c3ccc(Cl)cc3)nc4ccccc14\n",
       "1     CHEMBL1951080 -1.18  COc1cc(OC)c(cc1NC(=O)CSCC(=O)O)S(=O)(=O)N2C(C)...\n",
       "2        CHEMBL1771  3.69             COC(=O)[C@@H](N1CCc2sccc2C1)c3ccccc3Cl\n",
       "3      CHEMBL234951  3.37  OC[C@H](O)CN1C(=O)C(Cc2ccccc12)NC(=O)c3cc4cc(C...\n",
       "4      CHEMBL565079  3.10  Cc1cccc(C[C@H](NC(=O)c2cc(nn2C)C(C)(C)C)C(=O)N...\n",
       "...             ...   ...                                                ...\n",
       "4195   CHEMBL496929  3.85            OCCc1ccc(NC(=O)c2cc3cc(Cl)ccc3[nH]2)cc1\n",
       "4196   CHEMBL199147  3.21  CCN(C1CCN(CCC(c2ccc(F)cc2)c3ccc(F)cc3)CC1)C(=O...\n",
       "4197    CHEMBL15932  2.10                                 COc1cccc2[nH]ncc12\n",
       "4198   CHEMBL558748  2.65                    Clc1ccc2ncccc2c1C(=O)NCC3CCCCC3\n",
       "4199   CHEMBL237889  2.70                 CN1C(=O)C=C(CCc2ccc3ccccc3c2)N=C1N\n",
       "\n",
       "[4200 rows x 3 columns]"
      ]
     },
     "metadata": {},
     "output_type": "display_data"
    }
   ],
   "source": [
    "# import data\n",
    "\n",
    "dataframe = pd.read_csv(\"data/MoleculeNet_Lipophilicity/lipophilicity.csv\")\n",
    "\n",
    "print(\"Number of Molecules = \", len(dataframe))\n",
    "display(dataframe)"
   ]
  },
  {
   "cell_type": "code",
   "execution_count": 152,
   "metadata": {
    "colab": {
     "base_uri": "https://localhost:8080/",
     "height": 276
    },
    "colab_type": "code",
    "executionInfo": {
     "elapsed": 2024,
     "status": "ok",
     "timestamp": 1599858873012,
     "user": {
      "displayName": "Markus Dablander",
      "photoUrl": "",
      "userId": "13467664559539683865"
     },
     "user_tz": -120
    },
    "id": "BIm1m_9NSEaG",
    "outputId": "b8cea951-b524-4fc0-c760-db6be2b78673"
   },
   "outputs": [
    {
     "data": {
      "text/html": [
       "<div>\n",
       "<style scoped>\n",
       "    .dataframe tbody tr th:only-of-type {\n",
       "        vertical-align: middle;\n",
       "    }\n",
       "\n",
       "    .dataframe tbody tr th {\n",
       "        vertical-align: top;\n",
       "    }\n",
       "\n",
       "    .dataframe thead th {\n",
       "        text-align: right;\n",
       "    }\n",
       "</style>\n",
       "<table border=\"1\" class=\"dataframe\">\n",
       "  <thead>\n",
       "    <tr style=\"text-align: right;\">\n",
       "      <th></th>\n",
       "      <th>CMPD_CHEMBLID</th>\n",
       "      <th>exp</th>\n",
       "      <th>smiles</th>\n",
       "    </tr>\n",
       "  </thead>\n",
       "  <tbody>\n",
       "  </tbody>\n",
       "</table>\n",
       "</div>"
      ],
      "text/plain": [
       "Empty DataFrame\n",
       "Columns: [CMPD_CHEMBLID, exp, smiles]\n",
       "Index: []"
      ]
     },
     "metadata": {},
     "output_type": "display_data"
    },
    {
     "data": {
      "text/html": [
       "<div>\n",
       "<style scoped>\n",
       "    .dataframe tbody tr th:only-of-type {\n",
       "        vertical-align: middle;\n",
       "    }\n",
       "\n",
       "    .dataframe tbody tr th {\n",
       "        vertical-align: top;\n",
       "    }\n",
       "\n",
       "    .dataframe thead th {\n",
       "        text-align: right;\n",
       "    }\n",
       "</style>\n",
       "<table border=\"1\" class=\"dataframe\">\n",
       "  <thead>\n",
       "    <tr style=\"text-align: right;\">\n",
       "      <th></th>\n",
       "      <th>CMPD_CHEMBLID</th>\n",
       "      <th>exp</th>\n",
       "      <th>smiles</th>\n",
       "    </tr>\n",
       "  </thead>\n",
       "  <tbody>\n",
       "  </tbody>\n",
       "</table>\n",
       "</div>"
      ],
      "text/plain": [
       "Empty DataFrame\n",
       "Columns: [CMPD_CHEMBLID, exp, smiles]\n",
       "Index: []"
      ]
     },
     "metadata": {},
     "output_type": "display_data"
    }
   ],
   "source": [
    "# check for missing values (i.e. NA values)\n",
    "\n",
    "display(dataframe[dataframe['smiles'].isnull()])\n",
    "display(dataframe[dataframe['exp'].isnull()])"
   ]
  },
  {
   "cell_type": "code",
   "execution_count": 153,
   "metadata": {
    "colab": {},
    "colab_type": "code",
    "id": "oFu7W-IlSEaN"
   },
   "outputs": [
    {
     "name": "stdout",
     "output_type": "stream",
     "text": [
      "4200\n"
     ]
    }
   ],
   "source": [
    "# filter out Smiles which produce error messages in rdkit\n",
    "\n",
    "bad_smiles = []\n",
    "\n",
    "for k in range(len(dataframe[\"smiles\"].values)):\n",
    "\n",
    "    smiles = dataframe[\"smiles\"].values[k]\n",
    "    \n",
    "    sio = sys.stderr = StringIO()\n",
    "    Chem.MolFromSmiles(smiles)\n",
    "    error_message = sio.getvalue()\n",
    "    \n",
    "    if error_message != \"\" and error_message[0:13] != \"RDKit WARNING\":\n",
    "        print(k)\n",
    "        #print(error_message)\n",
    "        print(smiles, \"\\n \\n \\n \\n\")\n",
    "        bad_smiles.append(smiles)\n",
    "\n",
    "dataframe = dataframe[dataframe[\"smiles\"].isin(bad_smiles) == False]\n",
    "\n",
    "print(len(dataframe))"
   ]
  },
  {
   "cell_type": "code",
   "execution_count": 154,
   "metadata": {},
   "outputs": [
    {
     "name": "stdout",
     "output_type": "stream",
     "text": [
      "Number of Molecules =  4200\n"
     ]
    }
   ],
   "source": [
    "# define number of molecules\n",
    "\n",
    "N_molecules = len(dataframe[\"smiles\"].values)\n",
    "\n",
    "print(\"Number of Molecules = \", N_molecules)"
   ]
  },
  {
   "cell_type": "code",
   "execution_count": 155,
   "metadata": {
    "colab": {
     "base_uri": "https://localhost:8080/",
     "height": 90
    },
    "colab_type": "code",
    "executionInfo": {
     "elapsed": 771,
     "status": "ok",
     "timestamp": 1599869443976,
     "user": {
      "displayName": "Markus Dablander",
      "photoUrl": "",
      "userId": "13467664559539683865"
     },
     "user_tz": -120
    },
    "id": "M1aIBqplSEaq",
    "outputId": "d9c43474-c7b7-4622-da65-6ebe36c9c3a1"
   },
   "outputs": [
    {
     "name": "stdout",
     "output_type": "stream",
     "text": [
      "Average Value 2.1863357142857143\n",
      "Standard Deviation  1.2028604901336188\n",
      "Shape of y =  (4200,)\n",
      "Shape of Y =  (4200, 1)\n",
      "\n",
      " y =  [ 3.54 -1.18  3.69 ...  2.1   2.65  2.7 ]\n"
     ]
    }
   ],
   "source": [
    "# construct target variable y/Y (hERG inhibition)\n",
    "\n",
    "# extract labels\n",
    "y = dataframe.loc[:,\"exp\"].values\n",
    "Y = np.reshape(y, (len(y), 1))\n",
    "\n",
    "print(\"Average Value\", np.mean(y))\n",
    "print(\"Standard Deviation \", np.std(y))\n",
    "\n",
    "\n",
    "print(\"Shape of y = \", y.shape)\n",
    "print(\"Shape of Y = \", Y.shape)\n",
    "\n",
    "print(\"\\n y = \", y)\n"
   ]
  },
  {
   "cell_type": "code",
   "execution_count": 158,
   "metadata": {},
   "outputs": [
    {
     "name": "stdout",
     "output_type": "stream",
     "text": [
      "Average Value 8.458842092382146e-18\n",
      "Standard Deviation  1.0\n",
      "Shape of y =  (4200,)\n",
      "Shape of Y =  (4200, 1)\n",
      "\n",
      " y =  [ 1.12537098 -2.7986086   1.25007372 ... -0.07177533  0.38546805\n",
      "  0.42703563]\n"
     ]
    }
   ],
   "source": [
    "# z-transform target variable Y/y to mean 0 and std 1\n",
    "\n",
    "# z-transform\n",
    "y = (y - np.mean(y))/np.std(y)\n",
    "Y = np.reshape(y, (len(y), 1))\n",
    "\n",
    "print(\"Average Value\", np.mean(y))\n",
    "print(\"Standard Deviation \", np.std(y))\n",
    "\n",
    "\n",
    "print(\"Shape of y = \", y.shape)\n",
    "print(\"Shape of Y = \", Y.shape)\n",
    "\n",
    "print(\"\\n y = \", y)"
   ]
  },
  {
   "cell_type": "code",
   "execution_count": 159,
   "metadata": {},
   "outputs": [
    {
     "data": {
      "image/png": "[encoded data removed]",
      "text/plain": [
       "<Figure size 432x288 with 1 Axes>"
      ]
     },
     "metadata": {
      "needs_background": "light"
     },
     "output_type": "display_data"
    }
   ],
   "source": [
    "# plot histogram of target variable Y/y\n",
    "\n",
    "plt.hist(y, bins = 100);"
   ]
  },
  {
   "cell_type": "code",
   "execution_count": 160,
   "metadata": {
    "colab": {
     "base_uri": "https://localhost:8080/",
     "height": 222
    },
    "colab_type": "code",
    "executionInfo": {
     "elapsed": 444,
     "status": "ok",
     "timestamp": 1599869444377,
     "user": {
      "displayName": "Markus Dablander",
      "photoUrl": "",
      "userId": "13467664559539683865"
     },
     "user_tz": -120
    },
    "id": "PB82_jFUSEav",
    "outputId": "f151bbf0-8894-45c1-bd95-e747bc7c74b5"
   },
   "outputs": [
    {
     "name": "stdout",
     "output_type": "stream",
     "text": [
      "                  Smiles String\n",
      "Cn1c(CN2CCN(CC2)c3ccc(Cl)cc3)nc4ccccc14\n"
     ]
    },
    {
     "data": {
      "image/png": "[encoded data removed]",
      "text/plain": [
       "<rdkit.Chem.rdchem.Mol at 0x7f8a7d9511c0>"
      ]
     },
     "metadata": {},
     "output_type": "display_data"
    },
    {
     "name": "stdout",
     "output_type": "stream",
     "text": [
      "Shape of x_smiles =  (4200,)\n",
      "Shape of X_smiles =  (4200, 1)\n",
      "\n",
      " x_smiles =  ['Cn1c(CN2CCN(CC2)c3ccc(Cl)cc3)nc4ccccc14'\n",
      " 'COc1cc(OC)c(cc1NC(=O)CSCC(=O)O)S(=O)(=O)N2C(C)CCc3ccccc23'\n",
      " 'COC(=O)[C@@H](N1CCc2sccc2C1)c3ccccc3Cl'\n",
      " 'OC[C@H](O)CN1C(=O)C(Cc2ccccc12)NC(=O)c3cc4cc(Cl)sc4[nH]3'\n",
      " 'Cc1cccc(C[C@H](NC(=O)c2cc(nn2C)C(C)(C)C)C(=O)NCC#N)c1'\n",
      " 'OC1(CN2CCC1CC2)C#Cc3ccc(cc3)c4ccccc4'\n",
      " 'COc1cc(OC)c(cc1NC(=O)CCC(=O)O)S(=O)(=O)NCc2ccccc2N3CCCCC3'\n",
      " 'CNc1cccc(CCOc2ccc(C[C@H](NC(=O)c3c(Cl)cccc3Cl)C(=O)O)cc2C)n1'\n",
      " 'COc1ccc(cc1)C2=COc3cc(OC)cc(OC)c3C2=O' 'Oc1ncnc2scc(c3ccsc3)c12']\n"
     ]
    }
   ],
   "source": [
    "# extract Smiles strings\n",
    "\n",
    "X_smiles = np.reshape(dataframe[\"smiles\"].values, (N_molecules, 1))\n",
    "x_smiles = X_smiles[:,0]\n",
    "\n",
    "print(\"                  Smiles String\")\n",
    "print(X_smiles[0:1][0][0])\n",
    "\n",
    "for s in x_smiles[0:1]:\n",
    "    molecule = Chem.MolFromSmiles(s)\n",
    "    display(molecule)\n",
    "    \n",
    "print(\"Shape of x_smiles = \", x_smiles.shape)\n",
    "print(\"Shape of X_smiles = \", X_smiles.shape)\n",
    "\n",
    "print(\"\\n x_smiles = \", x_smiles[0:10])"
   ]
  },
  {
   "cell_type": "markdown",
   "metadata": {
    "collapsed": "true"
   },
   "source": [
    "## Prepare Data: MoleculeNet_FreeSolv"
   ]
  },
  {
   "cell_type": "code",
   "execution_count": 28,
   "metadata": {
    "colab": {
     "base_uri": "https://localhost:8080/",
     "height": 225
    },
    "colab_type": "code",
    "executionInfo": {
     "elapsed": 429,
     "status": "ok",
     "timestamp": 1599869437487,
     "user": {
      "displayName": "Markus Dablander",
      "photoUrl": "",
      "userId": "13467664559539683865"
     },
     "user_tz": -120
    },
    "id": "FpdNzlmISEaA",
    "outputId": "c37aae09-ccfe-4f8a-dccc-6006309b2074"
   },
   "outputs": [
    {
     "name": "stdout",
     "output_type": "stream",
     "text": [
      "Number of Molecules =  642\n"
     ]
    },
    {
     "data": {
      "text/html": [
       "<div>\n",
       "<style scoped>\n",
       "    .dataframe tbody tr th:only-of-type {\n",
       "        vertical-align: middle;\n",
       "    }\n",
       "\n",
       "    .dataframe tbody tr th {\n",
       "        vertical-align: top;\n",
       "    }\n",
       "\n",
       "    .dataframe thead th {\n",
       "        text-align: right;\n",
       "    }\n",
       "</style>\n",
       "<table border=\"1\" class=\"dataframe\">\n",
       "  <thead>\n",
       "    <tr style=\"text-align: right;\">\n",
       "      <th></th>\n",
       "      <th>iupac</th>\n",
       "      <th>smiles</th>\n",
       "      <th>expt</th>\n",
       "      <th>calc</th>\n",
       "    </tr>\n",
       "  </thead>\n",
       "  <tbody>\n",
       "    <tr>\n",
       "      <th>0</th>\n",
       "      <td>4-methoxy-N,N-dimethyl-benzamide</td>\n",
       "      <td>CN(C)C(=O)c1ccc(cc1)OC</td>\n",
       "      <td>-11.01</td>\n",
       "      <td>-9.625</td>\n",
       "    </tr>\n",
       "    <tr>\n",
       "      <th>1</th>\n",
       "      <td>methanesulfonyl chloride</td>\n",
       "      <td>CS(=O)(=O)Cl</td>\n",
       "      <td>-4.87</td>\n",
       "      <td>-6.219</td>\n",
       "    </tr>\n",
       "    <tr>\n",
       "      <th>2</th>\n",
       "      <td>3-methylbut-1-ene</td>\n",
       "      <td>CC(C)C=C</td>\n",
       "      <td>1.83</td>\n",
       "      <td>2.452</td>\n",
       "    </tr>\n",
       "    <tr>\n",
       "      <th>3</th>\n",
       "      <td>2-ethylpyrazine</td>\n",
       "      <td>CCc1cnccn1</td>\n",
       "      <td>-5.45</td>\n",
       "      <td>-5.809</td>\n",
       "    </tr>\n",
       "    <tr>\n",
       "      <th>4</th>\n",
       "      <td>heptan-1-ol</td>\n",
       "      <td>CCCCCCCO</td>\n",
       "      <td>-4.21</td>\n",
       "      <td>-2.917</td>\n",
       "    </tr>\n",
       "    <tr>\n",
       "      <th>...</th>\n",
       "      <td>...</td>\n",
       "      <td>...</td>\n",
       "      <td>...</td>\n",
       "      <td>...</td>\n",
       "    </tr>\n",
       "    <tr>\n",
       "      <th>637</th>\n",
       "      <td>methyl octanoate</td>\n",
       "      <td>CCCCCCCC(=O)OC</td>\n",
       "      <td>-2.04</td>\n",
       "      <td>-3.035</td>\n",
       "    </tr>\n",
       "    <tr>\n",
       "      <th>638</th>\n",
       "      <td>pyrrolidine</td>\n",
       "      <td>C1CCNC1</td>\n",
       "      <td>-5.48</td>\n",
       "      <td>-4.278</td>\n",
       "    </tr>\n",
       "    <tr>\n",
       "      <th>639</th>\n",
       "      <td>4-hydroxybenzaldehyde</td>\n",
       "      <td>c1cc(ccc1C=O)O</td>\n",
       "      <td>-8.83</td>\n",
       "      <td>-10.050</td>\n",
       "    </tr>\n",
       "    <tr>\n",
       "      <th>640</th>\n",
       "      <td>1-chloroheptane</td>\n",
       "      <td>CCCCCCCCl</td>\n",
       "      <td>0.29</td>\n",
       "      <td>1.467</td>\n",
       "    </tr>\n",
       "    <tr>\n",
       "      <th>641</th>\n",
       "      <td>1,4-dioxane</td>\n",
       "      <td>C1COCCO1</td>\n",
       "      <td>-5.06</td>\n",
       "      <td>-4.269</td>\n",
       "    </tr>\n",
       "  </tbody>\n",
       "</table>\n",
       "<p>642 rows × 4 columns</p>\n",
       "</div>"
      ],
      "text/plain": [
       "                                iupac                  smiles   expt    calc\n",
       "0    4-methoxy-N,N-dimethyl-benzamide  CN(C)C(=O)c1ccc(cc1)OC -11.01  -9.625\n",
       "1            methanesulfonyl chloride            CS(=O)(=O)Cl  -4.87  -6.219\n",
       "2                   3-methylbut-1-ene                CC(C)C=C   1.83   2.452\n",
       "3                     2-ethylpyrazine              CCc1cnccn1  -5.45  -5.809\n",
       "4                         heptan-1-ol                CCCCCCCO  -4.21  -2.917\n",
       "..                                ...                     ...    ...     ...\n",
       "637                  methyl octanoate          CCCCCCCC(=O)OC  -2.04  -3.035\n",
       "638                       pyrrolidine                 C1CCNC1  -5.48  -4.278\n",
       "639             4-hydroxybenzaldehyde          c1cc(ccc1C=O)O  -8.83 -10.050\n",
       "640                   1-chloroheptane               CCCCCCCCl   0.29   1.467\n",
       "641                       1,4-dioxane                C1COCCO1  -5.06  -4.269\n",
       "\n",
       "[642 rows x 4 columns]"
      ]
     },
     "metadata": {},
     "output_type": "display_data"
    }
   ],
   "source": [
    "# import data\n",
    "\n",
    "dataframe = pd.read_csv(\"data/MoleculeNet_FreeSolv/freesolv.csv\")\n",
    "\n",
    "print(\"Number of Molecules = \", len(dataframe))\n",
    "display(dataframe)"
   ]
  },
  {
   "cell_type": "code",
   "execution_count": 244,
   "metadata": {
    "colab": {
     "base_uri": "https://localhost:8080/",
     "height": 276
    },
    "colab_type": "code",
    "executionInfo": {
     "elapsed": 2024,
     "status": "ok",
     "timestamp": 1599858873012,
     "user": {
      "displayName": "Markus Dablander",
      "photoUrl": "",
      "userId": "13467664559539683865"
     },
     "user_tz": -120
    },
    "id": "BIm1m_9NSEaG",
    "outputId": "b8cea951-b524-4fc0-c760-db6be2b78673"
   },
   "outputs": [
    {
     "data": {
      "text/html": [
       "<div>\n",
       "<style scoped>\n",
       "    .dataframe tbody tr th:only-of-type {\n",
       "        vertical-align: middle;\n",
       "    }\n",
       "\n",
       "    .dataframe tbody tr th {\n",
       "        vertical-align: top;\n",
       "    }\n",
       "\n",
       "    .dataframe thead th {\n",
       "        text-align: right;\n",
       "    }\n",
       "</style>\n",
       "<table border=\"1\" class=\"dataframe\">\n",
       "  <thead>\n",
       "    <tr style=\"text-align: right;\">\n",
       "      <th></th>\n",
       "      <th>iupac</th>\n",
       "      <th>smiles</th>\n",
       "      <th>expt</th>\n",
       "      <th>calc</th>\n",
       "    </tr>\n",
       "  </thead>\n",
       "  <tbody>\n",
       "  </tbody>\n",
       "</table>\n",
       "</div>"
      ],
      "text/plain": [
       "Empty DataFrame\n",
       "Columns: [iupac, smiles, expt, calc]\n",
       "Index: []"
      ]
     },
     "metadata": {},
     "output_type": "display_data"
    },
    {
     "data": {
      "text/html": [
       "<div>\n",
       "<style scoped>\n",
       "    .dataframe tbody tr th:only-of-type {\n",
       "        vertical-align: middle;\n",
       "    }\n",
       "\n",
       "    .dataframe tbody tr th {\n",
       "        vertical-align: top;\n",
       "    }\n",
       "\n",
       "    .dataframe thead th {\n",
       "        text-align: right;\n",
       "    }\n",
       "</style>\n",
       "<table border=\"1\" class=\"dataframe\">\n",
       "  <thead>\n",
       "    <tr style=\"text-align: right;\">\n",
       "      <th></th>\n",
       "      <th>iupac</th>\n",
       "      <th>smiles</th>\n",
       "      <th>expt</th>\n",
       "      <th>calc</th>\n",
       "    </tr>\n",
       "  </thead>\n",
       "  <tbody>\n",
       "  </tbody>\n",
       "</table>\n",
       "</div>"
      ],
      "text/plain": [
       "Empty DataFrame\n",
       "Columns: [iupac, smiles, expt, calc]\n",
       "Index: []"
      ]
     },
     "metadata": {},
     "output_type": "display_data"
    }
   ],
   "source": [
    "# check for missing values (i.e. NA values)\n",
    "\n",
    "display(dataframe[dataframe['smiles'].isnull()])\n",
    "display(dataframe[dataframe['expt'].isnull()])"
   ]
  },
  {
   "cell_type": "code",
   "execution_count": 245,
   "metadata": {
    "colab": {},
    "colab_type": "code",
    "id": "oFu7W-IlSEaN"
   },
   "outputs": [
    {
     "name": "stdout",
     "output_type": "stream",
     "text": [
      "642\n"
     ]
    }
   ],
   "source": [
    "# filter out Smiles which produce error messages in rdkit\n",
    "\n",
    "bad_smiles = []\n",
    "\n",
    "for k in range(len(dataframe[\"smiles\"].values)):\n",
    "\n",
    "    smiles = dataframe[\"smiles\"].values[k]\n",
    "    \n",
    "    sio = sys.stderr = StringIO()\n",
    "    Chem.MolFromSmiles(smiles)\n",
    "    error_message = sio.getvalue()\n",
    "    \n",
    "    if error_message != \"\" and error_message[0:13] != \"RDKit WARNING\":\n",
    "        print(k)\n",
    "        #print(error_message)\n",
    "        print(smiles, \"\\n \\n \\n \\n\")\n",
    "        bad_smiles.append(smiles)\n",
    "\n",
    "dataframe = dataframe[dataframe[\"smiles\"].isin(bad_smiles) == False]\n",
    "\n",
    "print(len(dataframe))"
   ]
  },
  {
   "cell_type": "code",
   "execution_count": 246,
   "metadata": {},
   "outputs": [
    {
     "name": "stdout",
     "output_type": "stream",
     "text": [
      "Number of Molecules =  642\n"
     ]
    }
   ],
   "source": [
    "# define number of molecules\n",
    "\n",
    "N_molecules = len(dataframe[\"smiles\"].values)\n",
    "\n",
    "print(\"Number of Molecules = \", N_molecules)"
   ]
  },
  {
   "cell_type": "code",
   "execution_count": 249,
   "metadata": {
    "colab": {
     "base_uri": "https://localhost:8080/",
     "height": 90
    },
    "colab_type": "code",
    "executionInfo": {
     "elapsed": 771,
     "status": "ok",
     "timestamp": 1599869443976,
     "user": {
      "displayName": "Markus Dablander",
      "photoUrl": "",
      "userId": "13467664559539683865"
     },
     "user_tz": -120
    },
    "id": "M1aIBqplSEaq",
    "outputId": "d9c43474-c7b7-4622-da65-6ebe36c9c3a1"
   },
   "outputs": [
    {
     "name": "stdout",
     "output_type": "stream",
     "text": [
      "Average Value -3.8030062305295944\n",
      "Standard Deviation  3.844822204602953\n",
      "Shape of y =  (642,)\n",
      "Shape of Y =  (642, 1)\n",
      "\n",
      " y =  [-1.101e+01 -4.870e+00  1.830e+00 -5.450e+00 -4.210e+00 -6.270e+00\n",
      "  2.340e+00 -3.920e+00  1.580e+00 -4.620e+00 -1.960e+00 -3.880e+00\n",
      " -4.330e+00 -2.490e+00 -2.550e+00 -4.780e+00 -1.460e+00 -2.220e+00\n",
      " -5.850e+00  2.880e+00 -6.340e+00 -6.100e+00 -5.480e+00 -4.100e+00\n",
      " -4.100e+00 -3.520e+00 -4.470e+00 -2.740e+00 -3.430e+00 -7.810e+00\n",
      " -8.000e-01  9.300e-01 -6.780e+00 -9.290e+00 -4.070e+00 -5.910e+00\n",
      " -2.130e+00 -3.640e+00 -2.680e+00  3.130e+00 -1.000e+01  2.060e+00\n",
      " -8.110e+00 -1.120e+00 -2.362e+01 -2.830e+00 -4.680e+00 -5.560e+00\n",
      " -3.650e+00 -5.490e+00  3.120e+00 -4.420e+00 -6.200e+00 -6.960e+00\n",
      " -1.600e-01 -2.500e-01 -9.300e+00 -4.630e+00 -1.022e+01 -3.560e+00\n",
      " -3.650e+00 -4.290e+00  1.070e+00 -9.510e+00 -2.300e-01 -1.100e-01\n",
      " -1.643e+01  5.600e-01 -3.200e+00 -9.310e+00 -1.880e+00 -1.421e+01\n",
      " -8.180e+00 -2.880e+00 -7.770e+00 -4.500e+00 -9.900e-01 -3.780e+00\n",
      " -8.400e-01 -7.660e+00 -3.150e+00  5.200e-01 -6.620e+00 -1.817e+01\n",
      "  2.100e+00 -5.500e-01 -3.000e-02 -1.210e+00  2.670e+00 -9.630e+00\n",
      " -3.840e+00 -9.730e+00 -2.490e+00 -4.130e+00 -4.020e+00 -2.100e+00\n",
      " -4.590e+00  2.300e+00 -6.090e+00 -7.070e+00 -3.300e-01 -1.280e+00\n",
      " -4.060e+00 -3.880e+00 -1.920e+00  1.000e-01  1.010e+00 -8.300e-01\n",
      " -3.130e+00 -4.040e+00 -3.640e+00 -1.100e+00 -3.040e+00 -9.610e+00\n",
      " -2.380e+00 -2.230e+00 -1.660e+00 -6.320e+00 -9.650e+00 -4.380e+00\n",
      " -5.300e-01 -1.264e+01 -4.290e+00  2.930e+00 -7.030e+00 -5.110e+00\n",
      " -3.880e+00 -8.900e-01 -6.440e+00 -7.800e-01  2.300e+00 -3.640e+00\n",
      "  5.000e-01 -5.040e+00 -1.820e+00 -2.460e+00 -3.480e+00  2.520e+00\n",
      " -3.730e+00 -3.120e+00  7.500e-01 -3.170e+00  2.500e-01 -4.500e+00\n",
      " -2.440e+00 -6.400e-01 -2.730e+00 -5.660e+00  1.090e+00  6.800e-01\n",
      " -6.800e-01 -8.410e+00 -9.300e+00 -1.360e+00 -1.583e+01 -2.480e+00\n",
      " -3.100e+00 -6.210e+00 -5.710e+00 -4.860e+00  1.400e-01 -7.580e+00\n",
      " -3.040e+00 -6.500e+00 -4.000e+00 -3.180e+00 -7.900e-01 -4.400e-01\n",
      " -3.220e+00 -4.150e+00 -5.220e+00 -1.806e+01 -4.020e+00 -4.390e+00\n",
      " -5.700e-01 -4.700e+00 -2.750e+00 -1.140e+00 -9.800e+00 -4.420e+00\n",
      " -4.000e-01 -3.450e+00 -2.010e+00 -4.530e+00 -2.980e+00 -1.990e+00\n",
      " -4.690e+00 -2.640e+00 -9.000e-01 -1.240e+00 -6.500e+00 -1.003e+01\n",
      " -4.050e+00  4.000e-01  1.580e+00 -7.000e-01 -1.590e+00 -7.650e+00\n",
      " -8.720e+00 -2.260e+00 -4.700e+00 -6.160e+00 -7.400e-01 -2.630e+00\n",
      " -4.400e+00 -2.690e+00  6.700e-01 -1.660e+00 -2.130e+00 -6.130e+00\n",
      " -6.400e+00 -3.820e+00 -1.872e+01 -6.350e+00 -8.000e-01 -2.052e+01\n",
      "  1.790e+00 -4.720e+00 -8.000e-01 -2.940e+00 -1.690e+00 -2.210e+00\n",
      " -2.550e+00 -3.410e+00 -1.100e+00 -2.400e+00 -4.400e+00 -9.940e+00\n",
      " -3.110e+00 -4.870e+00 -4.730e+00 -3.220e+00 -3.670e+00 -3.790e+00\n",
      "  1.590e+00  2.000e+00 -3.300e+00 -9.450e+00 -9.520e+00 -3.950e+00\n",
      " -1.310e+00 -2.400e+00 -1.450e+00 -8.610e+00 -5.260e+00 -5.490e+00\n",
      " -9.530e+00 -1.185e+01 -2.490e+00 -4.240e+00 -2.490e+00 -5.570e+00\n",
      "  8.000e-02  1.770e+00 -8.700e+00 -9.800e-01 -2.470e+00  2.510e+00\n",
      " -5.040e+00  6.000e-02  1.280e+00 -1.400e-01 -4.420e+00  3.160e+00\n",
      " -4.950e+00  1.320e+00 -5.880e+00 -1.274e+01  1.230e+00 -4.450e+00\n",
      " -3.000e-01  2.560e+00 -3.240e+00 -3.240e+00 -9.900e-01 -3.810e+00\n",
      " -8.680e+00 -4.590e+00 -5.000e-01 -6.880e+00 -8.260e+00 -4.800e-01\n",
      " -2.070e+00 -6.460e+00 -1.080e+00 -1.210e+00  2.000e+00 -1.930e+00\n",
      "  1.700e+00 -1.380e+00 -4.690e+00 -1.600e-01 -2.920e+00 -5.800e+00\n",
      " -3.440e+00 -9.000e-01 -2.220e+00 -9.200e+00 -3.540e+00 -2.110e+00\n",
      " -5.210e+00  1.310e+00 -1.790e+00  2.560e+00 -2.780e+00 -4.590e+00\n",
      " -1.120e+00 -5.310e+00 -7.290e+00 -7.100e+00 -4.430e+00 -8.210e+00\n",
      " -2.890e+00 -2.930e+00 -4.350e+00 -2.150e+00 -1.950e+00 -1.740e+00\n",
      " -5.180e+00 -7.400e-01 -5.260e+00 -4.800e-01 -1.390e+00 -1.017e+01\n",
      " -1.008e+01 -6.250e+00 -4.440e+00 -2.300e+00 -9.860e+00  1.310e+00\n",
      "  1.830e+00 -5.330e+00 -1.460e+00 -6.750e+00 -7.290e+00 -2.450e+00\n",
      " -5.910e+00 -1.010e+00 -7.700e-01  1.680e+00 -1.340e+00  6.000e-01\n",
      " -2.340e+00 -1.120e+00 -9.340e+00 -3.030e+00 -2.870e+00 -4.910e+00\n",
      " -3.090e+00 -7.000e+00 -4.230e+00 -3.710e+00 -4.010e+00 -8.200e-01\n",
      " -5.100e+00 -2.670e+00 -2.280e+00 -7.370e+00 -3.880e+00 -2.290e+00\n",
      " -4.120e+00 -2.530e+00 -2.547e+01 -2.200e-01 -9.280e+00 -3.150e+00\n",
      " -5.530e+00 -4.000e-01 -3.880e+00 -4.930e+00  1.000e-01  8.400e-01\n",
      " -2.780e+00 -9.500e-01 -4.770e+00 -5.730e+00 -3.350e+00 -9.710e+00\n",
      " -5.100e+00 -2.370e+00 -3.300e+00  1.800e-01  3.400e-01 -3.520e+00\n",
      " -6.400e+00  0.000e+00 -4.000e-02 -7.780e+00  1.070e+00 -7.630e+00\n",
      " -7.280e+00 -6.000e+00 -4.610e+00 -4.780e+00 -9.400e+00  2.110e+00\n",
      " -5.460e+00 -7.430e+00 -6.190e+00 -4.910e+00 -8.600e-01 -8.500e-01\n",
      " -3.750e+00 -2.700e+00 -6.160e+00 -7.190e+00 -6.740e+00 -5.660e+00\n",
      " -1.610e+00 -1.078e+01 -5.490e+00 -2.560e+00  1.470e+00 -8.420e+00\n",
      " -7.980e+00 -5.900e-01 -9.760e+00 -2.920e+00 -3.920e+00 -4.270e+00\n",
      " -2.280e+00 -7.400e+00 -5.740e+00 -6.690e+00  2.510e+00 -5.510e+00\n",
      " -3.340e+00 -9.000e-01 -1.692e+01 -5.000e+00 -2.820e+00 -3.370e+00\n",
      " -4.710e+00 -2.560e+00 -1.340e+00 -5.230e+00 -9.620e+00 -4.090e+00\n",
      "  1.380e+00  8.000e-02 -6.790e+00 -9.130e+00 -1.830e+00 -9.010e+00\n",
      " -8.840e+00 -1.910e+00  2.480e+00 -2.330e+00 -1.230e+00 -1.546e+01\n",
      " -5.210e+00 -2.790e+00 -5.720e+00 -1.140e+00 -1.640e+00 -1.400e+00\n",
      " -2.400e+00 -3.520e+00 -4.610e+00 -2.450e+00 -6.690e+00 -3.500e+00\n",
      " -8.840e+00  2.900e-01 -6.120e+00 -6.600e+00 -3.840e+00 -7.670e+00\n",
      " -2.640e+00 -9.840e+00 -5.900e+00 -2.860e+00 -9.400e+00 -5.600e-01\n",
      " -2.500e-01 -1.890e+00 -1.064e+01 -1.270e+00 -5.900e+00 -9.440e+00\n",
      " -4.820e+00 -6.020e+00 -4.370e+00 -3.900e+00 -3.930e+00 -7.620e+00\n",
      " -3.710e+00 -3.800e+00  1.160e+00 -3.610e+00 -2.820e+00 -3.680e+00\n",
      " -1.195e+01 -3.470e+00  2.880e+00 -3.250e+00 -2.490e+00 -4.290e+00\n",
      " -5.300e-01  2.930e+00 -5.220e+00 -1.100e-01 -8.300e-01  2.550e+00\n",
      "  2.830e+00 -4.720e+00 -4.220e+00  2.710e+00 -1.960e+00 -1.290e+00\n",
      " -4.840e+00 -4.500e-01 -6.920e+00 -6.230e+00 -5.330e+00 -7.780e+00\n",
      " -1.021e+01  3.430e+00 -2.210e+00  0.000e+00 -3.050e+00 -2.810e+00\n",
      " -5.820e+00 -7.170e+00 -3.280e+00 -3.510e+00 -1.200e+00 -4.230e+00\n",
      " -4.400e+00 -5.030e+00 -1.500e+00 -2.510e+00 -1.620e+00 -4.580e+00\n",
      " -6.300e-01  2.130e+00 -7.800e-01 -9.370e+00 -6.620e+00 -4.420e+00\n",
      " -4.090e+00 -1.114e+01  2.930e+00 -6.250e+00 -4.820e+00 -1.100e+01\n",
      " -3.130e+00 -1.343e+01 -5.300e-01 -6.550e+00 -1.430e+00 -2.930e+00\n",
      "  1.200e+00 -4.590e+00 -4.840e+00 -6.620e+00 -2.780e+00 -7.470e+00\n",
      " -1.027e+01 -3.450e+00 -2.320e+00 -5.990e+00 -4.400e-01 -2.490e+00\n",
      " -4.160e+00 -1.000e-01  1.920e+00 -4.510e+00 -4.740e+00 -3.950e+00\n",
      " -4.800e+00 -6.010e+00 -4.570e+00 -4.390e+00  2.970e+00 -7.000e+00\n",
      " -8.150e+00 -6.500e+00 -6.790e+00  1.680e+00 -1.160e+00 -3.200e+00\n",
      " -6.680e+00  2.890e+00 -2.640e+00 -3.640e+00  1.660e+00 -2.020e+00\n",
      " -4.970e+00 -1.774e+01 -1.240e+00  2.380e+00 -2.090e+00 -1.460e+00\n",
      " -1.900e-01 -4.090e+00 -3.580e+00  2.700e-01 -4.520e+00 -1.000e-01\n",
      " -2.360e+00  2.510e+00 -9.820e+00 -6.720e+00 -7.480e+00  1.600e-01\n",
      " -2.160e+00 -4.550e+00 -4.550e+00 -1.153e+01 -1.170e+00 -3.280e+00\n",
      " -5.730e+00 -5.290e+00 -9.410e+00 -1.240e+00 -7.500e+00 -4.310e+00\n",
      " -5.730e+00 -4.850e+00 -9.000e-01  2.510e+00  1.000e-02 -9.610e+00\n",
      " -2.500e-01 -6.130e+00 -4.600e-01 -5.940e+00  5.600e-01 -4.200e+00\n",
      " -4.390e+00 -4.580e+00 -2.440e+00 -2.330e+00 -3.430e+00  7.100e-01\n",
      " -6.480e+00 -2.040e+00 -5.480e+00 -8.830e+00  2.900e-01 -5.060e+00]\n"
     ]
    }
   ],
   "source": [
    "# construct target variable y/Y (hERG inhibition)\n",
    "\n",
    "# extract labels\n",
    "y = dataframe.loc[:,\"expt\"].values\n",
    "Y = np.reshape(y, (len(y), 1))\n",
    "\n",
    "print(\"Average Value\", np.mean(y))\n",
    "print(\"Standard Deviation \", np.std(y))\n",
    "\n",
    "\n",
    "print(\"Shape of y = \", y.shape)\n",
    "print(\"Shape of Y = \", Y.shape)\n",
    "\n",
    "print(\"\\n y = \", y)\n"
   ]
  },
  {
   "cell_type": "code",
   "execution_count": 248,
   "metadata": {},
   "outputs": [
    {
     "name": "stdout",
     "output_type": "stream",
     "text": [
      "Average Value -1.5771392499348017e-16\n",
      "Standard Deviation  1.0\n",
      "Shape of y =  (642,)\n",
      "Shape of Y =  (642, 1)\n",
      "\n",
      " y =  [-1.87446737e+00 -2.77514463e-01  1.46508887e+00 -4.28366692e-01\n",
      " -1.05855030e-01 -6.41640533e-01  1.59773480e+00 -3.04289154e-02\n",
      "  1.40006636e+00 -2.12491950e-01  4.79347583e-01 -2.00253134e-02\n",
      " -1.37065836e-01  3.41499856e-01  3.25894453e-01 -2.54106358e-01\n",
      "  6.09392608e-01  4.11724170e-01 -5.32402712e-01  1.73818343e+00\n",
      " -6.59846837e-01 -5.97425225e-01 -4.36169394e-01 -7.72451244e-02\n",
      " -7.72451244e-02  7.36071047e-02 -1.73478443e-01  2.76477344e-01\n",
      "  9.70152092e-02 -1.04217921e+00  7.81052041e-01  1.23100783e+00\n",
      " -7.74286459e-01 -1.42711248e+00 -6.94424229e-02 -5.48008115e-01\n",
      "  4.35132274e-01  4.23962987e-02  2.92082747e-01  1.80320594e+00\n",
      " -1.61177642e+00  1.52490958e+00 -1.12020623e+00  6.97823225e-01\n",
      " -5.15420290e+00  2.53069239e-01 -2.28097353e-01 -4.56976598e-01\n",
      "  3.97953982e-02 -4.38770294e-01  1.80060504e+00 -1.60473940e-01\n",
      " -6.23434230e-01 -8.21102668e-01  9.47509673e-01  9.24101569e-01\n",
      " -1.42971339e+00 -2.15092851e-01 -1.66899623e+00  6.32035027e-02\n",
      "  3.97953982e-02 -1.26662234e-01  1.26742043e+00 -1.48433230e+00\n",
      "  9.29303370e-01  9.60514176e-01 -3.28415544e+00  1.13477451e+00\n",
      "  1.56835921e-01 -1.43231429e+00  5.00154787e-01 -2.70675553e+00\n",
      " -1.13841253e+00  2.40064737e-01 -1.03177561e+00 -1.81281144e-01\n",
      "  7.31634932e-01  5.98369165e-03  7.70648439e-01 -1.00316570e+00\n",
      "  1.69840423e-01  1.12437091e+00 -7.32672051e-01 -3.73671213e+00\n",
      "  1.53531319e+00  8.46074554e-01  9.81321380e-01  6.74415121e-01\n",
      "  1.68356452e+00 -1.51554310e+00 -9.62171136e-03 -1.54155211e+00\n",
      "  3.41499856e-01 -8.50478259e-02 -5.64379204e-02  4.42934976e-01\n",
      " -2.04689249e-01  1.58733120e+00 -5.94824324e-01 -8.49712573e-01\n",
      "  9.03294365e-01  6.56208817e-01 -6.68415224e-02 -2.00253134e-02\n",
      "  4.89751185e-01  1.01513309e+00  1.25181503e+00  7.73249340e-01\n",
      "  1.75042224e-01 -6.16397214e-02  4.23962987e-02  7.03025026e-01\n",
      "  1.98450329e-01 -1.51034130e+00  3.70109762e-01  4.09123269e-01\n",
      "  5.57374598e-01 -6.54645036e-01 -1.52074490e+00 -1.50070338e-01\n",
      "  8.51276355e-01 -2.29841415e+00 -1.26662234e-01  1.75118793e+00\n",
      " -8.39308971e-01 -3.39936075e-01 -2.00253134e-02  7.57643937e-01\n",
      " -6.85855842e-01  7.86253842e-01  1.58733120e+00  4.23962987e-02\n",
      "  1.11916911e+00 -3.21729772e-01  5.15760190e-01  3.49302558e-01\n",
      "  8.40107067e-02  1.64455101e+00  1.89881942e-02  1.77643125e-01\n",
      "  1.18419162e+00  1.64638622e-01  1.05414659e+00 -1.81281144e-01\n",
      "  3.54504359e-01  8.22666449e-01  2.79078244e-01 -4.82985603e-01\n",
      "  1.27262224e+00  1.16598532e+00  8.12262847e-01 -1.19823324e+00\n",
      " -1.42971339e+00  6.35401613e-01 -3.12810141e+00  3.44100757e-01\n",
      "  1.82844926e-01 -6.26035130e-01 -4.95990105e-01 -2.74913563e-01\n",
      "  1.02553669e+00 -9.82358499e-01  1.98450329e-01 -7.01461245e-01\n",
      " -5.12361194e-02  1.62037722e-01  7.83652942e-01  8.74684459e-01\n",
      "  1.51634120e-01 -9.02496269e-02 -3.68545981e-01 -3.70810222e+00\n",
      " -5.64379204e-02 -1.52671239e-01  8.40872753e-01 -2.33299154e-01\n",
      "  2.73876443e-01  6.92621424e-01 -1.55975841e+00 -1.60473940e-01\n",
      "  8.85088061e-01  9.18134082e-02  4.66343080e-01 -1.89083846e-01\n",
      "  2.14055732e-01  4.71544881e-01 -2.30698254e-01  3.02486349e-01\n",
      "  7.55043036e-01  6.66612419e-01 -7.01461245e-01 -1.61957912e+00\n",
      " -6.42406219e-02  1.09316010e+00  1.40006636e+00  8.07061046e-01\n",
      "  5.75580901e-01 -1.00056480e+00 -1.27886116e+00  4.01320568e-01\n",
      " -2.33299154e-01 -6.13030628e-01  7.96657444e-01  3.05087249e-01\n",
      " -1.55272139e-01  2.89481846e-01  1.16338441e+00  5.57374598e-01\n",
      "  4.35132274e-01 -6.05227926e-01 -6.75452240e-01 -4.41991035e-03\n",
      " -3.87976166e+00 -6.62447737e-01  7.81052041e-01 -4.34792375e+00\n",
      "  1.45468527e+00 -2.38500955e-01  7.81052041e-01  2.24459334e-01\n",
      "  5.49571896e-01  4.14325070e-01  3.25894453e-01  1.02217010e-01\n",
      "  7.03025026e-01  3.64907961e-01 -1.55272139e-01 -1.59617102e+00\n",
      "  1.80244025e-01 -2.77514463e-01 -2.41101856e-01  1.51634120e-01\n",
      "  3.45935972e-02  3.38279115e-03  1.40266726e+00  1.50930418e+00\n",
      "  1.30826916e-01 -1.46872689e+00 -1.48693320e+00 -3.82316169e-02\n",
      "  6.48406116e-01  3.64907961e-01  6.11993508e-01 -1.25025125e+00\n",
      " -3.78949583e-01 -4.38770294e-01 -1.48953410e+00 -2.09294301e+00\n",
      "  3.41499856e-01 -1.13657731e-01  3.41499856e-01 -4.59577498e-01\n",
      "  1.00993129e+00  1.44948347e+00 -1.27365936e+00  7.34235832e-01\n",
      "  3.46701657e-01  1.64195011e+00 -3.21729772e-01  1.00472948e+00\n",
      "  1.32203935e+00  9.52711474e-01 -1.60473940e-01  1.81100864e+00\n",
      " -2.98321667e-01  1.33244295e+00 -5.40205414e-01 -2.32442316e+00\n",
      "  1.30903484e+00 -1.68276642e-01  9.11097066e-01  1.65495461e+00\n",
      "  1.46432319e-01  1.46432319e-01  7.31634932e-01 -1.81900985e-03\n",
      " -1.26845755e+00 -2.04689249e-01  8.59079056e-01 -8.00295464e-01\n",
      " -1.15921973e+00  8.64280857e-01  4.50737677e-01 -6.91057643e-01\n",
      "  7.08226827e-01  6.74415121e-01  1.50930418e+00  4.87150284e-01\n",
      "  1.43127717e+00  6.30199812e-01 -2.30698254e-01  9.47509673e-01\n",
      "  2.29661135e-01 -5.19398210e-01  9.44143087e-02  7.55043036e-01\n",
      "  4.11724170e-01 -1.40370438e+00  6.84053037e-02  4.40334075e-01\n",
      " -3.65945080e-01  1.32984205e+00  5.23562891e-01  1.65495461e+00\n",
      "  2.66073742e-01 -2.04689249e-01  6.97823225e-01 -3.91954085e-01\n",
      " -9.06932384e-01 -8.57515275e-01 -1.63074841e-01 -1.14621523e+00\n",
      "  2.37463836e-01  2.27060234e-01 -1.42267637e-01  4.29930473e-01\n",
      "  4.81948483e-01  5.36567394e-01 -3.58142379e-01  7.96657444e-01\n",
      " -3.78949583e-01  8.64280857e-01  6.27598912e-01 -1.65599173e+00\n",
      " -1.63258362e+00 -6.36438732e-01 -1.65675741e-01  3.90916966e-01\n",
      " -1.57536381e+00  1.32984205e+00  1.46508887e+00 -3.97155886e-01\n",
      "  6.09392608e-01 -7.66483757e-01 -9.06932384e-01  3.51903458e-01\n",
      " -5.48008115e-01  7.26433131e-01  7.88854743e-01  1.42607537e+00\n",
      "  6.40603414e-01  1.14517811e+00  3.80513364e-01  6.97823225e-01\n",
      " -1.44011699e+00  2.01051229e-01  2.42665637e-01 -2.87918065e-01\n",
      "  1.85445826e-01 -8.31506270e-01 -1.11056831e-01  2.41899952e-02\n",
      " -5.38370199e-02  7.75850240e-01 -3.37335175e-01  2.94683647e-01\n",
      "  3.96118767e-01 -9.27739588e-01 -2.00253134e-02  3.93517866e-01\n",
      " -8.24469254e-02  3.31096254e-01 -5.63536950e+00  9.31904270e-01\n",
      " -1.42451158e+00  1.69840423e-01 -4.49173896e-01  8.85088061e-01\n",
      " -2.00253134e-02 -2.93119866e-01  1.01513309e+00  1.20759972e+00\n",
      "  2.66073742e-01  7.42038534e-01 -2.51505458e-01 -5.01191906e-01\n",
      "  1.17822413e-01 -1.53635031e+00 -3.37335175e-01  3.72710662e-01\n",
      "  1.30826916e-01  1.03594029e+00  1.07755470e+00  7.36071047e-02\n",
      " -6.75452240e-01  9.89124081e-01  9.78720479e-01 -1.03437651e+00\n",
      "  1.26742043e+00 -9.95363001e-01 -9.04331484e-01 -5.71416220e-01\n",
      " -2.09891050e-01 -2.54106358e-01 -1.45572239e+00  1.53791409e+00\n",
      " -4.30967593e-01 -9.43344991e-01 -6.20833329e-01 -2.87918065e-01\n",
      "  7.65446638e-01  7.68047539e-01  1.37863932e-02  2.86880946e-01\n",
      " -6.13030628e-01 -8.80923379e-01 -7.63882857e-01 -4.82985603e-01\n",
      "  5.70379100e-01 -1.81464666e+00 -4.38770294e-01  3.23293553e-01\n",
      "  1.37145645e+00 -1.20083414e+00 -1.08639452e+00  8.35670952e-01\n",
      " -1.54935481e+00  2.29661135e-01 -3.04289154e-02 -1.21460433e-01\n",
      "  3.96118767e-01 -9.35542290e-01 -5.03792807e-01 -7.50878354e-01\n",
      "  1.64195011e+00 -4.43972095e-01  1.20423314e-01  7.55043036e-01\n",
      " -3.41159957e+00 -3.11326170e-01  2.55670140e-01  1.12620612e-01\n",
      " -2.35900055e-01  3.23293553e-01  6.40603414e-01 -3.71146881e-01\n",
      " -1.51294220e+00 -7.46442239e-02  1.34804835e+00  1.00993129e+00\n",
      " -7.76887359e-01 -1.38549808e+00  5.13159289e-01 -1.35428727e+00\n",
      " -1.31007196e+00  4.92352085e-01  1.63414741e+00  3.83114264e-01\n",
      "  6.69213320e-01 -3.03186809e+00 -3.65945080e-01  2.63472841e-01\n",
      " -4.98591006e-01  6.92621424e-01  5.62576399e-01  6.24998011e-01\n",
      "  3.64907961e-01  7.36071047e-02 -2.09891050e-01  3.51903458e-01\n",
      " -7.50878354e-01  7.88089057e-02 -1.31007196e+00  1.06455020e+00\n",
      " -6.02627026e-01 -7.27470250e-01 -9.62171136e-03 -1.00576660e+00\n",
      "  3.02486349e-01 -1.57016201e+00 -5.45407215e-01  2.45266538e-01\n",
      " -1.45572239e+00  8.43473653e-01  9.24101569e-01  4.97553886e-01\n",
      " -1.77823405e+00  6.58809718e-01 -5.45407215e-01 -1.46612599e+00\n",
      " -2.64509961e-01 -5.76618021e-01 -1.47469438e-01 -2.52271144e-02\n",
      " -3.30298159e-02 -9.92762101e-01  2.41899952e-02  7.81890649e-04\n",
      "  1.29082854e+00  5.01990002e-02  2.55670140e-01  3.19926967e-02\n",
      " -2.11895202e+00  8.66116072e-02  1.73818343e+00  1.43831418e-01\n",
      "  3.41499856e-01 -1.26662234e-01  8.51276355e-01  1.75118793e+00\n",
      " -3.68545981e-01  9.60514176e-01  7.73249340e-01  1.65235371e+00\n",
      "  1.72517892e+00 -2.38500955e-01 -1.08455930e-01  1.69396812e+00\n",
      "  4.79347583e-01  6.53607917e-01 -2.69711762e-01  8.72083559e-01\n",
      " -8.10699066e-01 -6.31236931e-01 -3.97155886e-01 -1.03437651e+00\n",
      " -1.66639533e+00  1.88123295e+00  4.14325070e-01  9.89124081e-01\n",
      "  1.95849428e-01  2.58271040e-01 -5.24600011e-01 -8.75721578e-01\n",
      "  1.36028717e-01  7.62080052e-02  6.77016021e-01 -1.11056831e-01\n",
      " -1.55272139e-01 -3.19128871e-01  5.98989006e-01  3.36298055e-01\n",
      "  5.67778200e-01 -2.02088348e-01  8.25267350e-01  1.54311589e+00\n",
      "  7.86253842e-01 -1.44791969e+00 -7.32672051e-01 -1.60473940e-01\n",
      " -7.46442239e-02 -1.90827908e+00  1.75118793e+00 -6.36438732e-01\n",
      " -2.64509961e-01 -1.87186647e+00  1.75042224e-01 -2.50388529e+00\n",
      "  8.51276355e-01 -7.14465747e-01  6.17195309e-01  2.27060234e-01\n",
      "  1.30123214e+00 -2.04689249e-01 -2.69711762e-01 -7.32672051e-01\n",
      "  2.66073742e-01 -9.53748593e-01 -1.68200073e+00  9.18134082e-02\n",
      "  3.85715165e-01 -5.68815319e-01  8.74684459e-01  3.41499856e-01\n",
      " -9.28505274e-02  9.63115076e-01  1.48849698e+00 -1.83882045e-01\n",
      " -2.43702756e-01 -3.82316169e-02 -2.59308159e-01 -5.74017120e-01\n",
      " -1.99487448e-01 -1.52671239e-01  1.76159153e+00 -8.31506270e-01\n",
      " -1.13060983e+00 -7.01461245e-01 -7.76887359e-01  1.42607537e+00\n",
      "  6.87419623e-01  1.56835921e-01 -7.48277454e-01  1.74078433e+00\n",
      "  3.02486349e-01  4.23962987e-02  1.42087356e+00  4.63742180e-01\n",
      " -3.03523468e-01 -3.62487341e+00  6.66612419e-01  1.60813840e+00\n",
      "  4.45535876e-01  6.09392608e-01  9.39706972e-01 -7.46442239e-02\n",
      "  5.80017017e-02  1.05934839e+00 -1.86482945e-01  9.63115076e-01\n",
      "  3.75311563e-01  1.64195011e+00 -1.56496021e+00 -7.58681056e-01\n",
      " -9.56349494e-01  1.03073849e+00  4.27329573e-01 -1.94285647e-01\n",
      " -1.94285647e-01 -2.00971420e+00  6.84818723e-01  1.36028717e-01\n",
      " -5.01191906e-01 -3.86752284e-01 -1.45832329e+00  6.66612419e-01\n",
      " -9.61551295e-01 -1.31864035e-01 -5.01191906e-01 -2.72312662e-01\n",
      "  7.55043036e-01  1.64195011e+00  9.91724982e-01 -1.51034130e+00\n",
      "  9.24101569e-01 -6.05227926e-01  8.69482658e-01 -5.55810817e-01\n",
      "  1.13477451e+00 -1.03254129e-01 -1.52671239e-01 -2.02088348e-01\n",
      "  3.54504359e-01  3.83114264e-01  9.70152092e-02  1.17378802e+00\n",
      " -6.96259444e-01  4.58540379e-01 -4.36169394e-01 -1.30747106e+00\n",
      "  1.06455020e+00 -3.26931573e-01]\n"
     ]
    }
   ],
   "source": [
    "# z-transform target variable Y/y to mean 0 and std 1\n",
    "\n",
    "# z-transform\n",
    "y = (y - np.mean(y))/np.std(y)\n",
    "Y = np.reshape(y, (len(y), 1))\n",
    "\n",
    "print(\"Average Value\", np.mean(y))\n",
    "print(\"Standard Deviation \", np.std(y))\n",
    "\n",
    "\n",
    "print(\"Shape of y = \", y.shape)\n",
    "print(\"Shape of Y = \", Y.shape)\n",
    "\n",
    "print(\"\\n y = \", y)"
   ]
  },
  {
   "cell_type": "code",
   "execution_count": 250,
   "metadata": {},
   "outputs": [
    {
     "data": {
      "image/png": "[encoded data removed]",
      "text/plain": [
       "<Figure size 432x288 with 1 Axes>"
      ]
     },
     "metadata": {
      "needs_background": "light"
     },
     "output_type": "display_data"
    }
   ],
   "source": [
    "# plot histogram of target variable Y/y\n",
    "\n",
    "plt.hist(y, bins = 100);"
   ]
  },
  {
   "cell_type": "code",
   "execution_count": 251,
   "metadata": {
    "colab": {
     "base_uri": "https://localhost:8080/",
     "height": 222
    },
    "colab_type": "code",
    "executionInfo": {
     "elapsed": 444,
     "status": "ok",
     "timestamp": 1599869444377,
     "user": {
      "displayName": "Markus Dablander",
      "photoUrl": "",
      "userId": "13467664559539683865"
     },
     "user_tz": -120
    },
    "id": "PB82_jFUSEav",
    "outputId": "f151bbf0-8894-45c1-bd95-e747bc7c74b5"
   },
   "outputs": [
    {
     "name": "stdout",
     "output_type": "stream",
     "text": [
      "                  Smiles String\n",
      "CN(C)C(=O)c1ccc(cc1)OC\n"
     ]
    },
    {
     "data": {
      "image/png": "[encoded data removed]",
      "text/plain": [
       "<rdkit.Chem.rdchem.Mol at 0x7f8a7cd21da0>"
      ]
     },
     "metadata": {},
     "output_type": "display_data"
    },
    {
     "name": "stdout",
     "output_type": "stream",
     "text": [
      "Shape of x_smiles =  (642,)\n",
      "Shape of X_smiles =  (642, 1)\n",
      "\n",
      " x_smiles =  ['CN(C)C(=O)c1ccc(cc1)OC' 'CS(=O)(=O)Cl' 'CC(C)C=C' 'CCc1cnccn1'\n",
      " 'CCCCCCCO' 'Cc1cc(cc(c1)O)C' 'CC(C)C(C)C' 'CCCC(C)(C)O'\n",
      " 'C[C@@H]1CCCC[C@@H]1C' 'CC[C@H](C)O']\n"
     ]
    }
   ],
   "source": [
    "# extract Smiles strings\n",
    "\n",
    "X_smiles = np.reshape(dataframe[\"smiles\"].values, (N_molecules, 1))\n",
    "x_smiles = X_smiles[:,0]\n",
    "\n",
    "print(\"                  Smiles String\")\n",
    "print(X_smiles[0:1][0][0])\n",
    "\n",
    "for s in x_smiles[0:1]:\n",
    "    molecule = Chem.MolFromSmiles(s)\n",
    "    display(molecule)\n",
    "    \n",
    "print(\"Shape of x_smiles = \", x_smiles.shape)\n",
    "print(\"Shape of X_smiles = \", X_smiles.shape)\n",
    "\n",
    "print(\"\\n x_smiles = \", x_smiles[0:10])"
   ]
  },
  {
   "cell_type": "markdown",
   "metadata": {
    "collapsed": "true"
   },
   "source": [
    "# Use Regression Method"
   ]
  },
  {
   "cell_type": "markdown",
   "metadata": {},
   "source": [
    "## Implement a graph regression method of your liking here"
   ]
  },
  {
   "cell_type": "code",
   "execution_count": null,
   "metadata": {},
   "outputs": [],
   "source": []
  }
 ],
 "metadata": {
  "accelerator": "GPU",
  "colab": {
   "collapsed_sections": [
    "kee2e-GFy3LW",
    "goBvy2nHSEbU",
    "UkiCM3e9Gd7O",
    "ZnOzpAwWGf6x",
    "RUdRr7rTSEc6",
    "7HanBbXV2txi"
   ],
   "name": "Colab_LMP_ChEMBL_hERG_data.ipynb",
   "provenance": []
  },
  "kernelspec": {
   "display_name": "Python 3",
   "language": "python",
   "name": "python3"
  },
  "language_info": {
   "codemirror_mode": {
    "name": "ipython",
    "version": 3
   },
   "file_extension": ".py",
   "mimetype": "text/x-python",
   "name": "python",
   "nbconvert_exporter": "python",
   "pygments_lexer": "ipython3",
   "version": "3.7.7"
  }
 },
 "nbformat": 4,
 "nbformat_minor": 4
}
